{
 "cells": [
  {
   "cell_type": "code",
   "execution_count": 1,
   "metadata": {},
   "outputs": [],
   "source": [
    "import pandas as pd\n",
    "import numpy as np\n",
    "import sklearn\n",
    "import matplotlib.pyplot as plt\n",
    "import seaborn as sns\n",
    "%matplotlib inline\n",
    "sns.set()\n",
    "import statsmodels.api as sm"
   ]
  },
  {
   "cell_type": "code",
   "execution_count": 2,
   "metadata": {},
   "outputs": [
    {
     "data": {
      "text/html": [
       "<div>\n",
       "<style scoped>\n",
       "    .dataframe tbody tr th:only-of-type {\n",
       "        vertical-align: middle;\n",
       "    }\n",
       "\n",
       "    .dataframe tbody tr th {\n",
       "        vertical-align: top;\n",
       "    }\n",
       "\n",
       "    .dataframe thead th {\n",
       "        text-align: right;\n",
       "    }\n",
       "</style>\n",
       "<table border=\"1\" class=\"dataframe\">\n",
       "  <thead>\n",
       "    <tr style=\"text-align: right;\">\n",
       "      <th></th>\n",
       "      <th>Unnamed: 0</th>\n",
       "      <th>Title</th>\n",
       "      <th>Price</th>\n",
       "      <th>Location</th>\n",
       "      <th>Beds</th>\n",
       "      <th>Baths</th>\n",
       "      <th>Description</th>\n",
       "      <th>Garage</th>\n",
       "    </tr>\n",
       "  </thead>\n",
       "  <tbody>\n",
       "    <tr>\n",
       "      <th>0</th>\n",
       "      <td>0</td>\n",
       "      <td>Exquisite And Well Maintained 3 &amp; 4 Bedroom Ap...</td>\n",
       "      <td>N25,000,000 per year</td>\n",
       "      <td>Ocean Parade, Banana Island, Banana Island, ...</td>\n",
       "      <td>3</td>\n",
       "      <td>5</td>\n",
       "      <td>3 Bedroom Flat &amp; Apartment</td>\n",
       "      <td>0</td>\n",
       "    </tr>\n",
       "    <tr>\n",
       "      <th>1</th>\n",
       "      <td>1</td>\n",
       "      <td>Brand new exquisite 4 Bedroom duplex for letti...</td>\n",
       "      <td>N2,500,000 per year</td>\n",
       "      <td>Ogudu Lagos , Ogudu G.R.A, Ketu</td>\n",
       "      <td>4</td>\n",
       "      <td>5</td>\n",
       "      <td>4 Bedroom Duplex</td>\n",
       "      <td>0</td>\n",
       "    </tr>\n",
       "    <tr>\n",
       "      <th>2</th>\n",
       "      <td>2</td>\n",
       "      <td>1 bedroom self contain for rent</td>\n",
       "      <td>N2,300,000 per year</td>\n",
       "      <td>Oniru, Victoria Island</td>\n",
       "      <td>1</td>\n",
       "      <td>1</td>\n",
       "      <td>Flat &amp; Apartment</td>\n",
       "      <td>1</td>\n",
       "    </tr>\n",
       "    <tr>\n",
       "      <th>3</th>\n",
       "      <td>3</td>\n",
       "      <td>4 bedroom terrace duplex for rent!!</td>\n",
       "      <td>N3,000,000 per year</td>\n",
       "      <td>Ikota, Lekki</td>\n",
       "      <td>4</td>\n",
       "      <td>4</td>\n",
       "      <td>4 Bedroom Terrace</td>\n",
       "      <td>2</td>\n",
       "    </tr>\n",
       "    <tr>\n",
       "      <th>4</th>\n",
       "      <td>4</td>\n",
       "      <td>Well Finished 4 Bedroom Town House With Bq</td>\n",
       "      <td>N5,500,000 per year</td>\n",
       "      <td>Off Audu Epkeka, Lekki Phase 1, Lekki</td>\n",
       "      <td>4</td>\n",
       "      <td>4</td>\n",
       "      <td>4 Bedroom Townhouse</td>\n",
       "      <td>0</td>\n",
       "    </tr>\n",
       "  </tbody>\n",
       "</table>\n",
       "</div>"
      ],
      "text/plain": [
       "   Unnamed: 0                                              Title  \\\n",
       "0           0  Exquisite And Well Maintained 3 & 4 Bedroom Ap...   \n",
       "1           1  Brand new exquisite 4 Bedroom duplex for letti...   \n",
       "2           2                    1 bedroom self contain for rent   \n",
       "3           3                4 bedroom terrace duplex for rent!!   \n",
       "4           4         Well Finished 4 Bedroom Town House With Bq   \n",
       "\n",
       "                  Price                                           Location  \\\n",
       "0  N25,000,000 per year    Ocean Parade, Banana Island, Banana Island, ...   \n",
       "1   N2,500,000 per year                    Ogudu Lagos , Ogudu G.R.A, Ketu   \n",
       "2   N2,300,000 per year                             Oniru, Victoria Island   \n",
       "3   N3,000,000 per year                                       Ikota, Lekki   \n",
       "4   N5,500,000 per year              Off Audu Epkeka, Lekki Phase 1, Lekki   \n",
       "\n",
       "   Beds  Baths                 Description  Garage  \n",
       "0     3      5  3 Bedroom Flat & Apartment       0  \n",
       "1     4      5            4 Bedroom Duplex       0  \n",
       "2     1      1            Flat & Apartment       1  \n",
       "3     4      4           4 Bedroom Terrace       2  \n",
       "4     4      4         4 Bedroom Townhouse       0  "
      ]
     },
     "execution_count": 2,
     "metadata": {},
     "output_type": "execute_result"
    }
   ],
   "source": [
    "df = pd.read_csv(\"privatepropertyng5.csv\")\n",
    "df.head()"
   ]
  },
  {
   "cell_type": "code",
   "execution_count": 4,
   "metadata": {},
   "outputs": [
    {
     "name": "stdout",
     "output_type": "stream",
     "text": [
      "<class 'pandas.core.frame.DataFrame'>\n",
      "RangeIndex: 2700 entries, 0 to 2699\n",
      "Data columns (total 8 columns):\n",
      "Unnamed: 0     2700 non-null int64\n",
      "Title          2700 non-null object\n",
      "Price          2700 non-null object\n",
      "Location       2700 non-null object\n",
      "Beds           2700 non-null int64\n",
      "Baths          2700 non-null int64\n",
      "Description    2700 non-null object\n",
      "Garage         2700 non-null int64\n",
      "dtypes: int64(4), object(4)\n",
      "memory usage: 168.8+ KB\n"
     ]
    }
   ],
   "source": [
    "df.info()"
   ]
  },
  {
   "cell_type": "code",
   "execution_count": 5,
   "metadata": {},
   "outputs": [
    {
     "data": {
      "text/html": [
       "<div>\n",
       "<style scoped>\n",
       "    .dataframe tbody tr th:only-of-type {\n",
       "        vertical-align: middle;\n",
       "    }\n",
       "\n",
       "    .dataframe tbody tr th {\n",
       "        vertical-align: top;\n",
       "    }\n",
       "\n",
       "    .dataframe thead th {\n",
       "        text-align: right;\n",
       "    }\n",
       "</style>\n",
       "<table border=\"1\" class=\"dataframe\">\n",
       "  <thead>\n",
       "    <tr style=\"text-align: right;\">\n",
       "      <th></th>\n",
       "      <th>Unnamed: 0</th>\n",
       "      <th>Title</th>\n",
       "      <th>Price</th>\n",
       "      <th>Location</th>\n",
       "      <th>Beds</th>\n",
       "      <th>Baths</th>\n",
       "      <th>Description</th>\n",
       "      <th>Garage</th>\n",
       "    </tr>\n",
       "  </thead>\n",
       "  <tbody>\n",
       "    <tr>\n",
       "      <th>count</th>\n",
       "      <td>2700.000000</td>\n",
       "      <td>2700</td>\n",
       "      <td>2700</td>\n",
       "      <td>2700</td>\n",
       "      <td>2.700000e+03</td>\n",
       "      <td>2700.000000</td>\n",
       "      <td>2700</td>\n",
       "      <td>2700.000000</td>\n",
       "    </tr>\n",
       "    <tr>\n",
       "      <th>unique</th>\n",
       "      <td>NaN</td>\n",
       "      <td>2198</td>\n",
       "      <td>235</td>\n",
       "      <td>1039</td>\n",
       "      <td>NaN</td>\n",
       "      <td>NaN</td>\n",
       "      <td>74</td>\n",
       "      <td>NaN</td>\n",
       "    </tr>\n",
       "    <tr>\n",
       "      <th>top</th>\n",
       "      <td>NaN</td>\n",
       "      <td>3 Bedroom Apartment</td>\n",
       "      <td>N3,500,000 per year</td>\n",
       "      <td>Lekki Phase 1, Lekki</td>\n",
       "      <td>NaN</td>\n",
       "      <td>NaN</td>\n",
       "      <td>3 Bedroom Flat &amp; Apartment</td>\n",
       "      <td>NaN</td>\n",
       "    </tr>\n",
       "    <tr>\n",
       "      <th>freq</th>\n",
       "      <td>NaN</td>\n",
       "      <td>25</td>\n",
       "      <td>282</td>\n",
       "      <td>150</td>\n",
       "      <td>NaN</td>\n",
       "      <td>NaN</td>\n",
       "      <td>714</td>\n",
       "      <td>NaN</td>\n",
       "    </tr>\n",
       "    <tr>\n",
       "      <th>mean</th>\n",
       "      <td>1349.500000</td>\n",
       "      <td>NaN</td>\n",
       "      <td>NaN</td>\n",
       "      <td>NaN</td>\n",
       "      <td>2.225404e+03</td>\n",
       "      <td>3.334074</td>\n",
       "      <td>NaN</td>\n",
       "      <td>0.553333</td>\n",
       "    </tr>\n",
       "    <tr>\n",
       "      <th>std</th>\n",
       "      <td>779.567188</td>\n",
       "      <td>NaN</td>\n",
       "      <td>NaN</td>\n",
       "      <td>NaN</td>\n",
       "      <td>8.276132e+04</td>\n",
       "      <td>1.776578</td>\n",
       "      <td>NaN</td>\n",
       "      <td>1.597669</td>\n",
       "    </tr>\n",
       "    <tr>\n",
       "      <th>min</th>\n",
       "      <td>0.000000</td>\n",
       "      <td>NaN</td>\n",
       "      <td>NaN</td>\n",
       "      <td>NaN</td>\n",
       "      <td>0.000000e+00</td>\n",
       "      <td>0.000000</td>\n",
       "      <td>NaN</td>\n",
       "      <td>0.000000</td>\n",
       "    </tr>\n",
       "    <tr>\n",
       "      <th>25%</th>\n",
       "      <td>674.750000</td>\n",
       "      <td>NaN</td>\n",
       "      <td>NaN</td>\n",
       "      <td>NaN</td>\n",
       "      <td>3.000000e+00</td>\n",
       "      <td>3.000000</td>\n",
       "      <td>NaN</td>\n",
       "      <td>0.000000</td>\n",
       "    </tr>\n",
       "    <tr>\n",
       "      <th>50%</th>\n",
       "      <td>1349.500000</td>\n",
       "      <td>NaN</td>\n",
       "      <td>NaN</td>\n",
       "      <td>NaN</td>\n",
       "      <td>3.000000e+00</td>\n",
       "      <td>4.000000</td>\n",
       "      <td>NaN</td>\n",
       "      <td>0.000000</td>\n",
       "    </tr>\n",
       "    <tr>\n",
       "      <th>75%</th>\n",
       "      <td>2024.250000</td>\n",
       "      <td>NaN</td>\n",
       "      <td>NaN</td>\n",
       "      <td>NaN</td>\n",
       "      <td>4.000000e+00</td>\n",
       "      <td>4.000000</td>\n",
       "      <td>NaN</td>\n",
       "      <td>0.000000</td>\n",
       "    </tr>\n",
       "    <tr>\n",
       "      <th>max</th>\n",
       "      <td>2699.000000</td>\n",
       "      <td>NaN</td>\n",
       "      <td>NaN</td>\n",
       "      <td>NaN</td>\n",
       "      <td>3.500000e+06</td>\n",
       "      <td>33.000000</td>\n",
       "      <td>NaN</td>\n",
       "      <td>50.000000</td>\n",
       "    </tr>\n",
       "  </tbody>\n",
       "</table>\n",
       "</div>"
      ],
      "text/plain": [
       "         Unnamed: 0                Title                Price  \\\n",
       "count   2700.000000                 2700                 2700   \n",
       "unique          NaN                 2198                  235   \n",
       "top             NaN  3 Bedroom Apartment  N3,500,000 per year   \n",
       "freq            NaN                   25                  282   \n",
       "mean    1349.500000                  NaN                  NaN   \n",
       "std      779.567188                  NaN                  NaN   \n",
       "min        0.000000                  NaN                  NaN   \n",
       "25%      674.750000                  NaN                  NaN   \n",
       "50%     1349.500000                  NaN                  NaN   \n",
       "75%     2024.250000                  NaN                  NaN   \n",
       "max     2699.000000                  NaN                  NaN   \n",
       "\n",
       "                      Location          Beds        Baths  \\\n",
       "count                     2700  2.700000e+03  2700.000000   \n",
       "unique                    1039           NaN          NaN   \n",
       "top       Lekki Phase 1, Lekki           NaN          NaN   \n",
       "freq                       150           NaN          NaN   \n",
       "mean                       NaN  2.225404e+03     3.334074   \n",
       "std                        NaN  8.276132e+04     1.776578   \n",
       "min                        NaN  0.000000e+00     0.000000   \n",
       "25%                        NaN  3.000000e+00     3.000000   \n",
       "50%                        NaN  3.000000e+00     4.000000   \n",
       "75%                        NaN  4.000000e+00     4.000000   \n",
       "max                        NaN  3.500000e+06    33.000000   \n",
       "\n",
       "                       Description       Garage  \n",
       "count                         2700  2700.000000  \n",
       "unique                          74          NaN  \n",
       "top     3 Bedroom Flat & Apartment          NaN  \n",
       "freq                           714          NaN  \n",
       "mean                           NaN     0.553333  \n",
       "std                            NaN     1.597669  \n",
       "min                            NaN     0.000000  \n",
       "25%                            NaN     0.000000  \n",
       "50%                            NaN     0.000000  \n",
       "75%                            NaN     0.000000  \n",
       "max                            NaN    50.000000  "
      ]
     },
     "execution_count": 5,
     "metadata": {},
     "output_type": "execute_result"
    }
   ],
   "source": [
    "df.describe(include=\"all\")"
   ]
  },
  {
   "cell_type": "markdown",
   "metadata": {},
   "source": [
    "# DATA PREPROCESSING ...."
   ]
  },
  {
   "cell_type": "markdown",
   "metadata": {},
   "source": [
    "Based on the stats observed in the dataframe above, we will be dropping columns: 'Unnamed' because it is just index from excel, 'title' ,'location' because of the number of unique values in comparison with the total number of entries in the dataset!!\n"
   ]
  },
  {
   "cell_type": "code",
   "execution_count": 3,
   "metadata": {},
   "outputs": [],
   "source": [
    "new_df = df.drop(columns=[\"Unnamed: 0\",\"Title\",\"Location\"],axis=1)"
   ]
  },
  {
   "cell_type": "code",
   "execution_count": 7,
   "metadata": {},
   "outputs": [
    {
     "data": {
      "text/html": [
       "<div>\n",
       "<style scoped>\n",
       "    .dataframe tbody tr th:only-of-type {\n",
       "        vertical-align: middle;\n",
       "    }\n",
       "\n",
       "    .dataframe tbody tr th {\n",
       "        vertical-align: top;\n",
       "    }\n",
       "\n",
       "    .dataframe thead th {\n",
       "        text-align: right;\n",
       "    }\n",
       "</style>\n",
       "<table border=\"1\" class=\"dataframe\">\n",
       "  <thead>\n",
       "    <tr style=\"text-align: right;\">\n",
       "      <th></th>\n",
       "      <th>Price</th>\n",
       "      <th>Beds</th>\n",
       "      <th>Baths</th>\n",
       "      <th>Description</th>\n",
       "      <th>Garage</th>\n",
       "    </tr>\n",
       "  </thead>\n",
       "  <tbody>\n",
       "    <tr>\n",
       "      <th>0</th>\n",
       "      <td>N25,000,000 per year</td>\n",
       "      <td>3</td>\n",
       "      <td>5</td>\n",
       "      <td>3 Bedroom Flat &amp; Apartment</td>\n",
       "      <td>0</td>\n",
       "    </tr>\n",
       "    <tr>\n",
       "      <th>1</th>\n",
       "      <td>N2,500,000 per year</td>\n",
       "      <td>4</td>\n",
       "      <td>5</td>\n",
       "      <td>4 Bedroom Duplex</td>\n",
       "      <td>0</td>\n",
       "    </tr>\n",
       "    <tr>\n",
       "      <th>2</th>\n",
       "      <td>N2,300,000 per year</td>\n",
       "      <td>1</td>\n",
       "      <td>1</td>\n",
       "      <td>Flat &amp; Apartment</td>\n",
       "      <td>1</td>\n",
       "    </tr>\n",
       "    <tr>\n",
       "      <th>3</th>\n",
       "      <td>N3,000,000 per year</td>\n",
       "      <td>4</td>\n",
       "      <td>4</td>\n",
       "      <td>4 Bedroom Terrace</td>\n",
       "      <td>2</td>\n",
       "    </tr>\n",
       "    <tr>\n",
       "      <th>4</th>\n",
       "      <td>N5,500,000 per year</td>\n",
       "      <td>4</td>\n",
       "      <td>4</td>\n",
       "      <td>4 Bedroom Townhouse</td>\n",
       "      <td>0</td>\n",
       "    </tr>\n",
       "  </tbody>\n",
       "</table>\n",
       "</div>"
      ],
      "text/plain": [
       "                  Price  Beds  Baths                 Description  Garage\n",
       "0  N25,000,000 per year     3      5  3 Bedroom Flat & Apartment       0\n",
       "1   N2,500,000 per year     4      5            4 Bedroom Duplex       0\n",
       "2   N2,300,000 per year     1      1            Flat & Apartment       1\n",
       "3   N3,000,000 per year     4      4           4 Bedroom Terrace       2\n",
       "4   N5,500,000 per year     4      4         4 Bedroom Townhouse       0"
      ]
     },
     "execution_count": 7,
     "metadata": {},
     "output_type": "execute_result"
    }
   ],
   "source": [
    "new_df.head()"
   ]
  },
  {
   "cell_type": "markdown",
   "metadata": {},
   "source": [
    "The dependent variable column i.e price column needs to be transformed..i.e the figures must be extracted!!\n",
    "Analysis of the price column showed that the price values were ending with \" per year\", \" /m2\", \" per month\". Values with \"per year\" were extracted directly..values with \"/m2\" and \"per month\" i.e per month were multiplied by 12 to get value for a year"
   ]
  },
  {
   "cell_type": "code",
   "execution_count": 17,
   "metadata": {},
   "outputs": [],
   "source": [
    "#cleaning function for the price column\n",
    "def change_y(val):\n",
    "    new_val =0 \n",
    "    #a default value of zero was placed so that we can check for any value not caught by our function and then \n",
    "    #trace them in the table to the original price column to see if there was any string pattern we didnt catch'''\n",
    "    index = val.find(\" per year\")\n",
    "    if index != -1:\n",
    "        new_val = val[1:index].replace(\",\",\"\")\n",
    "        new_val = int(new_val)\n",
    "    else:\n",
    "        if val[-4:] == \" /m2\":\n",
    "            index = val.find(\" /m2\")\n",
    "            if index != -1:\n",
    "                new_val = val[1:index].replace(\",\",\"\")\n",
    "                new_val = int(new_val)\n",
    "                new_val = new_val *12\n",
    "        else:\n",
    "            index = val.find(\" per month\")\n",
    "            if index != -1:\n",
    "                new_val = val[1:index].replace(\",\",\"\")\n",
    "                new_val = int(new_val)\n",
    "                new_val = new_val *12\n",
    "    return int(new_val)    \n"
   ]
  },
  {
   "cell_type": "code",
   "execution_count": 18,
   "metadata": {},
   "outputs": [],
   "source": [
    "new_df[\"Real_Price\"] = new_df[\"Price\"].apply(change_y) #applying the cleaning function to the price column"
   ]
  },
  {
   "cell_type": "code",
   "execution_count": null,
   "metadata": {},
   "outputs": [],
   "source": []
  },
  {
   "cell_type": "code",
   "execution_count": 19,
   "metadata": {},
   "outputs": [
    {
     "data": {
      "text/html": [
       "<div>\n",
       "<style scoped>\n",
       "    .dataframe tbody tr th:only-of-type {\n",
       "        vertical-align: middle;\n",
       "    }\n",
       "\n",
       "    .dataframe tbody tr th {\n",
       "        vertical-align: top;\n",
       "    }\n",
       "\n",
       "    .dataframe thead th {\n",
       "        text-align: right;\n",
       "    }\n",
       "</style>\n",
       "<table border=\"1\" class=\"dataframe\">\n",
       "  <thead>\n",
       "    <tr style=\"text-align: right;\">\n",
       "      <th></th>\n",
       "      <th>Price</th>\n",
       "      <th>Beds</th>\n",
       "      <th>Baths</th>\n",
       "      <th>Description</th>\n",
       "      <th>Garage</th>\n",
       "      <th>Real_Price</th>\n",
       "    </tr>\n",
       "  </thead>\n",
       "  <tbody>\n",
       "    <tr>\n",
       "      <th>count</th>\n",
       "      <td>2700</td>\n",
       "      <td>2.700000e+03</td>\n",
       "      <td>2700.000000</td>\n",
       "      <td>2700</td>\n",
       "      <td>2700.000000</td>\n",
       "      <td>2.700000e+03</td>\n",
       "    </tr>\n",
       "    <tr>\n",
       "      <th>unique</th>\n",
       "      <td>235</td>\n",
       "      <td>NaN</td>\n",
       "      <td>NaN</td>\n",
       "      <td>74</td>\n",
       "      <td>NaN</td>\n",
       "      <td>NaN</td>\n",
       "    </tr>\n",
       "    <tr>\n",
       "      <th>top</th>\n",
       "      <td>N3,500,000 per year</td>\n",
       "      <td>NaN</td>\n",
       "      <td>NaN</td>\n",
       "      <td>3 Bedroom Flat &amp; Apartment</td>\n",
       "      <td>NaN</td>\n",
       "      <td>NaN</td>\n",
       "    </tr>\n",
       "    <tr>\n",
       "      <th>freq</th>\n",
       "      <td>282</td>\n",
       "      <td>NaN</td>\n",
       "      <td>NaN</td>\n",
       "      <td>714</td>\n",
       "      <td>NaN</td>\n",
       "      <td>NaN</td>\n",
       "    </tr>\n",
       "    <tr>\n",
       "      <th>mean</th>\n",
       "      <td>NaN</td>\n",
       "      <td>2.225404e+03</td>\n",
       "      <td>3.334074</td>\n",
       "      <td>NaN</td>\n",
       "      <td>0.553333</td>\n",
       "      <td>9.820131e+06</td>\n",
       "    </tr>\n",
       "    <tr>\n",
       "      <th>std</th>\n",
       "      <td>NaN</td>\n",
       "      <td>8.276132e+04</td>\n",
       "      <td>1.776578</td>\n",
       "      <td>NaN</td>\n",
       "      <td>1.597669</td>\n",
       "      <td>6.813070e+07</td>\n",
       "    </tr>\n",
       "    <tr>\n",
       "      <th>min</th>\n",
       "      <td>NaN</td>\n",
       "      <td>0.000000e+00</td>\n",
       "      <td>0.000000</td>\n",
       "      <td>NaN</td>\n",
       "      <td>0.000000</td>\n",
       "      <td>1.000000e+00</td>\n",
       "    </tr>\n",
       "    <tr>\n",
       "      <th>1%</th>\n",
       "      <td>NaN</td>\n",
       "      <td>0.000000e+00</td>\n",
       "      <td>0.000000</td>\n",
       "      <td>NaN</td>\n",
       "      <td>0.000000</td>\n",
       "      <td>9.486000e+04</td>\n",
       "    </tr>\n",
       "    <tr>\n",
       "      <th>2%</th>\n",
       "      <td>NaN</td>\n",
       "      <td>0.000000e+00</td>\n",
       "      <td>0.000000</td>\n",
       "      <td>NaN</td>\n",
       "      <td>0.000000</td>\n",
       "      <td>4.000000e+05</td>\n",
       "    </tr>\n",
       "    <tr>\n",
       "      <th>3%</th>\n",
       "      <td>NaN</td>\n",
       "      <td>0.000000e+00</td>\n",
       "      <td>0.000000</td>\n",
       "      <td>NaN</td>\n",
       "      <td>0.000000</td>\n",
       "      <td>7.000000e+05</td>\n",
       "    </tr>\n",
       "    <tr>\n",
       "      <th>4%</th>\n",
       "      <td>NaN</td>\n",
       "      <td>0.000000e+00</td>\n",
       "      <td>0.000000</td>\n",
       "      <td>NaN</td>\n",
       "      <td>0.000000</td>\n",
       "      <td>9.999600e+05</td>\n",
       "    </tr>\n",
       "    <tr>\n",
       "      <th>5%</th>\n",
       "      <td>NaN</td>\n",
       "      <td>0.000000e+00</td>\n",
       "      <td>0.000000</td>\n",
       "      <td>NaN</td>\n",
       "      <td>0.000000</td>\n",
       "      <td>1.195000e+06</td>\n",
       "    </tr>\n",
       "    <tr>\n",
       "      <th>6%</th>\n",
       "      <td>NaN</td>\n",
       "      <td>0.000000e+00</td>\n",
       "      <td>0.000000</td>\n",
       "      <td>NaN</td>\n",
       "      <td>0.000000</td>\n",
       "      <td>1.200000e+06</td>\n",
       "    </tr>\n",
       "    <tr>\n",
       "      <th>7.0%</th>\n",
       "      <td>NaN</td>\n",
       "      <td>0.000000e+00</td>\n",
       "      <td>0.000000</td>\n",
       "      <td>NaN</td>\n",
       "      <td>0.000000</td>\n",
       "      <td>1.400000e+06</td>\n",
       "    </tr>\n",
       "    <tr>\n",
       "      <th>8%</th>\n",
       "      <td>NaN</td>\n",
       "      <td>0.000000e+00</td>\n",
       "      <td>0.000000</td>\n",
       "      <td>NaN</td>\n",
       "      <td>0.000000</td>\n",
       "      <td>1.500000e+06</td>\n",
       "    </tr>\n",
       "    <tr>\n",
       "      <th>9%</th>\n",
       "      <td>NaN</td>\n",
       "      <td>0.000000e+00</td>\n",
       "      <td>0.000000</td>\n",
       "      <td>NaN</td>\n",
       "      <td>0.000000</td>\n",
       "      <td>1.600000e+06</td>\n",
       "    </tr>\n",
       "    <tr>\n",
       "      <th>10%</th>\n",
       "      <td>NaN</td>\n",
       "      <td>1.000000e+00</td>\n",
       "      <td>1.000000</td>\n",
       "      <td>NaN</td>\n",
       "      <td>0.000000</td>\n",
       "      <td>1.745000e+06</td>\n",
       "    </tr>\n",
       "    <tr>\n",
       "      <th>20%</th>\n",
       "      <td>NaN</td>\n",
       "      <td>2.000000e+00</td>\n",
       "      <td>2.000000</td>\n",
       "      <td>NaN</td>\n",
       "      <td>0.000000</td>\n",
       "      <td>2.700000e+06</td>\n",
       "    </tr>\n",
       "    <tr>\n",
       "      <th>30%</th>\n",
       "      <td>NaN</td>\n",
       "      <td>3.000000e+00</td>\n",
       "      <td>3.000000</td>\n",
       "      <td>NaN</td>\n",
       "      <td>0.000000</td>\n",
       "      <td>3.300000e+06</td>\n",
       "    </tr>\n",
       "    <tr>\n",
       "      <th>40%</th>\n",
       "      <td>NaN</td>\n",
       "      <td>3.000000e+00</td>\n",
       "      <td>3.000000</td>\n",
       "      <td>NaN</td>\n",
       "      <td>0.000000</td>\n",
       "      <td>3.500000e+06</td>\n",
       "    </tr>\n",
       "    <tr>\n",
       "      <th>50%</th>\n",
       "      <td>NaN</td>\n",
       "      <td>3.000000e+00</td>\n",
       "      <td>4.000000</td>\n",
       "      <td>NaN</td>\n",
       "      <td>0.000000</td>\n",
       "      <td>4.000000e+06</td>\n",
       "    </tr>\n",
       "    <tr>\n",
       "      <th>60%</th>\n",
       "      <td>NaN</td>\n",
       "      <td>4.000000e+00</td>\n",
       "      <td>4.000000</td>\n",
       "      <td>NaN</td>\n",
       "      <td>0.000000</td>\n",
       "      <td>5.000000e+06</td>\n",
       "    </tr>\n",
       "    <tr>\n",
       "      <th>70%</th>\n",
       "      <td>NaN</td>\n",
       "      <td>4.000000e+00</td>\n",
       "      <td>4.000000</td>\n",
       "      <td>NaN</td>\n",
       "      <td>0.000000</td>\n",
       "      <td>7.000000e+06</td>\n",
       "    </tr>\n",
       "    <tr>\n",
       "      <th>80%</th>\n",
       "      <td>NaN</td>\n",
       "      <td>4.000000e+00</td>\n",
       "      <td>4.000000</td>\n",
       "      <td>NaN</td>\n",
       "      <td>0.000000</td>\n",
       "      <td>1.000000e+07</td>\n",
       "    </tr>\n",
       "    <tr>\n",
       "      <th>90%</th>\n",
       "      <td>NaN</td>\n",
       "      <td>5.000000e+00</td>\n",
       "      <td>5.000000</td>\n",
       "      <td>NaN</td>\n",
       "      <td>3.000000</td>\n",
       "      <td>1.500000e+07</td>\n",
       "    </tr>\n",
       "    <tr>\n",
       "      <th>95%</th>\n",
       "      <td>NaN</td>\n",
       "      <td>5.000000e+00</td>\n",
       "      <td>5.000000</td>\n",
       "      <td>NaN</td>\n",
       "      <td>3.000000</td>\n",
       "      <td>2.162000e+07</td>\n",
       "    </tr>\n",
       "    <tr>\n",
       "      <th>96%</th>\n",
       "      <td>NaN</td>\n",
       "      <td>5.000000e+00</td>\n",
       "      <td>5.000000</td>\n",
       "      <td>NaN</td>\n",
       "      <td>4.000000</td>\n",
       "      <td>2.500000e+07</td>\n",
       "    </tr>\n",
       "    <tr>\n",
       "      <th>97%</th>\n",
       "      <td>NaN</td>\n",
       "      <td>5.000000e+00</td>\n",
       "      <td>5.000000</td>\n",
       "      <td>NaN</td>\n",
       "      <td>4.000000</td>\n",
       "      <td>3.000000e+07</td>\n",
       "    </tr>\n",
       "    <tr>\n",
       "      <th>98%</th>\n",
       "      <td>NaN</td>\n",
       "      <td>5.000000e+00</td>\n",
       "      <td>6.000000</td>\n",
       "      <td>NaN</td>\n",
       "      <td>4.000000</td>\n",
       "      <td>4.000000e+07</td>\n",
       "    </tr>\n",
       "    <tr>\n",
       "      <th>99%</th>\n",
       "      <td>NaN</td>\n",
       "      <td>6.000000e+00</td>\n",
       "      <td>6.010000</td>\n",
       "      <td>NaN</td>\n",
       "      <td>5.000000</td>\n",
       "      <td>5.640600e+07</td>\n",
       "    </tr>\n",
       "    <tr>\n",
       "      <th>99.4%</th>\n",
       "      <td>NaN</td>\n",
       "      <td>8.000000e+00</td>\n",
       "      <td>8.000000</td>\n",
       "      <td>NaN</td>\n",
       "      <td>6.000000</td>\n",
       "      <td>7.000000e+07</td>\n",
       "    </tr>\n",
       "    <tr>\n",
       "      <th>max</th>\n",
       "      <td>NaN</td>\n",
       "      <td>3.500000e+06</td>\n",
       "      <td>33.000000</td>\n",
       "      <td>NaN</td>\n",
       "      <td>50.000000</td>\n",
       "      <td>2.500000e+09</td>\n",
       "    </tr>\n",
       "  </tbody>\n",
       "</table>\n",
       "</div>"
      ],
      "text/plain": [
       "                      Price          Beds        Baths  \\\n",
       "count                  2700  2.700000e+03  2700.000000   \n",
       "unique                  235           NaN          NaN   \n",
       "top     N3,500,000 per year           NaN          NaN   \n",
       "freq                    282           NaN          NaN   \n",
       "mean                    NaN  2.225404e+03     3.334074   \n",
       "std                     NaN  8.276132e+04     1.776578   \n",
       "min                     NaN  0.000000e+00     0.000000   \n",
       "1%                      NaN  0.000000e+00     0.000000   \n",
       "2%                      NaN  0.000000e+00     0.000000   \n",
       "3%                      NaN  0.000000e+00     0.000000   \n",
       "4%                      NaN  0.000000e+00     0.000000   \n",
       "5%                      NaN  0.000000e+00     0.000000   \n",
       "6%                      NaN  0.000000e+00     0.000000   \n",
       "7.0%                    NaN  0.000000e+00     0.000000   \n",
       "8%                      NaN  0.000000e+00     0.000000   \n",
       "9%                      NaN  0.000000e+00     0.000000   \n",
       "10%                     NaN  1.000000e+00     1.000000   \n",
       "20%                     NaN  2.000000e+00     2.000000   \n",
       "30%                     NaN  3.000000e+00     3.000000   \n",
       "40%                     NaN  3.000000e+00     3.000000   \n",
       "50%                     NaN  3.000000e+00     4.000000   \n",
       "60%                     NaN  4.000000e+00     4.000000   \n",
       "70%                     NaN  4.000000e+00     4.000000   \n",
       "80%                     NaN  4.000000e+00     4.000000   \n",
       "90%                     NaN  5.000000e+00     5.000000   \n",
       "95%                     NaN  5.000000e+00     5.000000   \n",
       "96%                     NaN  5.000000e+00     5.000000   \n",
       "97%                     NaN  5.000000e+00     5.000000   \n",
       "98%                     NaN  5.000000e+00     6.000000   \n",
       "99%                     NaN  6.000000e+00     6.010000   \n",
       "99.4%                   NaN  8.000000e+00     8.000000   \n",
       "max                     NaN  3.500000e+06    33.000000   \n",
       "\n",
       "                       Description       Garage    Real_Price  \n",
       "count                         2700  2700.000000  2.700000e+03  \n",
       "unique                          74          NaN           NaN  \n",
       "top     3 Bedroom Flat & Apartment          NaN           NaN  \n",
       "freq                           714          NaN           NaN  \n",
       "mean                           NaN     0.553333  9.820131e+06  \n",
       "std                            NaN     1.597669  6.813070e+07  \n",
       "min                            NaN     0.000000  1.000000e+00  \n",
       "1%                             NaN     0.000000  9.486000e+04  \n",
       "2%                             NaN     0.000000  4.000000e+05  \n",
       "3%                             NaN     0.000000  7.000000e+05  \n",
       "4%                             NaN     0.000000  9.999600e+05  \n",
       "5%                             NaN     0.000000  1.195000e+06  \n",
       "6%                             NaN     0.000000  1.200000e+06  \n",
       "7.0%                           NaN     0.000000  1.400000e+06  \n",
       "8%                             NaN     0.000000  1.500000e+06  \n",
       "9%                             NaN     0.000000  1.600000e+06  \n",
       "10%                            NaN     0.000000  1.745000e+06  \n",
       "20%                            NaN     0.000000  2.700000e+06  \n",
       "30%                            NaN     0.000000  3.300000e+06  \n",
       "40%                            NaN     0.000000  3.500000e+06  \n",
       "50%                            NaN     0.000000  4.000000e+06  \n",
       "60%                            NaN     0.000000  5.000000e+06  \n",
       "70%                            NaN     0.000000  7.000000e+06  \n",
       "80%                            NaN     0.000000  1.000000e+07  \n",
       "90%                            NaN     3.000000  1.500000e+07  \n",
       "95%                            NaN     3.000000  2.162000e+07  \n",
       "96%                            NaN     4.000000  2.500000e+07  \n",
       "97%                            NaN     4.000000  3.000000e+07  \n",
       "98%                            NaN     4.000000  4.000000e+07  \n",
       "99%                            NaN     5.000000  5.640600e+07  \n",
       "99.4%                          NaN     6.000000  7.000000e+07  \n",
       "max                            NaN    50.000000  2.500000e+09  "
      ]
     },
     "execution_count": 19,
     "metadata": {},
     "output_type": "execute_result"
    }
   ],
   "source": [
    "new_df.describe(include=\"all\",percentiles = [0.01,0.02,0.03,0.04,0.05,0.06,0.07,0.08,0.09,0.1,0.2,0.3,0.4,0.5,0.6,0.7,0.8,0.9,0.95,0.96,0.97,0.98,0.99,0.994])"
   ]
  },
  {
   "cell_type": "markdown",
   "metadata": {},
   "source": [
    "Observing the dataframe above, outliers can be detected in the columns above the 99.4th percentile and before the 10th pecentile in real_price ..They will be removed!!! "
   ]
  },
  {
   "cell_type": "code",
   "execution_count": 20,
   "metadata": {},
   "outputs": [],
   "source": [
    "newer_df = new_df.copy()\n",
    "q = newer_df[\"Real_Price\"].quantile(0.99)\n",
    "newer_df2 = newer_df[newer_df[\"Real_Price\"]<q]\n",
    "q = newer_df2[\"Real_Price\"].quantile(0.02)\n",
    "newer_df3 = newer_df2[newer_df2[\"Real_Price\"]>q]\n",
    "q=newer_df3[\"Baths\"].quantile(0.99)\n",
    "newer_df4 = newer_df3[newer_df3[\"Baths\"]<q]"
   ]
  },
  {
   "cell_type": "code",
   "execution_count": 21,
   "metadata": {},
   "outputs": [],
   "source": [
    "q = newer_df4[\"Beds\"].quantile(0.99)\n",
    "newer_df5 = newer_df4[newer_df4[\"Beds\"]<q]"
   ]
  },
  {
   "cell_type": "code",
   "execution_count": 79,
   "metadata": {},
   "outputs": [
    {
     "data": {
      "text/html": [
       "<div>\n",
       "<style scoped>\n",
       "    .dataframe tbody tr th:only-of-type {\n",
       "        vertical-align: middle;\n",
       "    }\n",
       "\n",
       "    .dataframe tbody tr th {\n",
       "        vertical-align: top;\n",
       "    }\n",
       "\n",
       "    .dataframe thead th {\n",
       "        text-align: right;\n",
       "    }\n",
       "</style>\n",
       "<table border=\"1\" class=\"dataframe\">\n",
       "  <thead>\n",
       "    <tr style=\"text-align: right;\">\n",
       "      <th></th>\n",
       "      <th>Price</th>\n",
       "      <th>Beds</th>\n",
       "      <th>Baths</th>\n",
       "      <th>Description</th>\n",
       "      <th>Garage</th>\n",
       "      <th>Real_Price</th>\n",
       "    </tr>\n",
       "  </thead>\n",
       "  <tbody>\n",
       "    <tr>\n",
       "      <th>count</th>\n",
       "      <td>2313</td>\n",
       "      <td>2313.000000</td>\n",
       "      <td>2313.000000</td>\n",
       "      <td>2313</td>\n",
       "      <td>2313.000000</td>\n",
       "      <td>2.313000e+03</td>\n",
       "    </tr>\n",
       "    <tr>\n",
       "      <th>unique</th>\n",
       "      <td>161</td>\n",
       "      <td>NaN</td>\n",
       "      <td>NaN</td>\n",
       "      <td>41</td>\n",
       "      <td>NaN</td>\n",
       "      <td>NaN</td>\n",
       "    </tr>\n",
       "    <tr>\n",
       "      <th>top</th>\n",
       "      <td>N3,500,000 per year</td>\n",
       "      <td>NaN</td>\n",
       "      <td>NaN</td>\n",
       "      <td>3 Bedroom Flat &amp; Apartment</td>\n",
       "      <td>NaN</td>\n",
       "      <td>NaN</td>\n",
       "    </tr>\n",
       "    <tr>\n",
       "      <th>freq</th>\n",
       "      <td>262</td>\n",
       "      <td>NaN</td>\n",
       "      <td>NaN</td>\n",
       "      <td>707</td>\n",
       "      <td>NaN</td>\n",
       "      <td>NaN</td>\n",
       "    </tr>\n",
       "    <tr>\n",
       "      <th>mean</th>\n",
       "      <td>NaN</td>\n",
       "      <td>2.983571</td>\n",
       "      <td>3.123649</td>\n",
       "      <td>NaN</td>\n",
       "      <td>0.493299</td>\n",
       "      <td>6.489733e+06</td>\n",
       "    </tr>\n",
       "    <tr>\n",
       "      <th>std</th>\n",
       "      <td>NaN</td>\n",
       "      <td>1.186606</td>\n",
       "      <td>1.290878</td>\n",
       "      <td>NaN</td>\n",
       "      <td>1.160954</td>\n",
       "      <td>6.624094e+06</td>\n",
       "    </tr>\n",
       "    <tr>\n",
       "      <th>min</th>\n",
       "      <td>NaN</td>\n",
       "      <td>0.000000</td>\n",
       "      <td>0.000000</td>\n",
       "      <td>NaN</td>\n",
       "      <td>0.000000</td>\n",
       "      <td>4.200000e+05</td>\n",
       "    </tr>\n",
       "    <tr>\n",
       "      <th>10%</th>\n",
       "      <td>NaN</td>\n",
       "      <td>1.000000</td>\n",
       "      <td>1.000000</td>\n",
       "      <td>NaN</td>\n",
       "      <td>0.000000</td>\n",
       "      <td>1.820000e+06</td>\n",
       "    </tr>\n",
       "    <tr>\n",
       "      <th>20%</th>\n",
       "      <td>NaN</td>\n",
       "      <td>2.000000</td>\n",
       "      <td>2.000000</td>\n",
       "      <td>NaN</td>\n",
       "      <td>0.000000</td>\n",
       "      <td>2.700000e+06</td>\n",
       "    </tr>\n",
       "    <tr>\n",
       "      <th>30%</th>\n",
       "      <td>NaN</td>\n",
       "      <td>3.000000</td>\n",
       "      <td>3.000000</td>\n",
       "      <td>NaN</td>\n",
       "      <td>0.000000</td>\n",
       "      <td>3.000000e+06</td>\n",
       "    </tr>\n",
       "    <tr>\n",
       "      <th>40%</th>\n",
       "      <td>NaN</td>\n",
       "      <td>3.000000</td>\n",
       "      <td>3.000000</td>\n",
       "      <td>NaN</td>\n",
       "      <td>0.000000</td>\n",
       "      <td>3.500000e+06</td>\n",
       "    </tr>\n",
       "    <tr>\n",
       "      <th>50%</th>\n",
       "      <td>NaN</td>\n",
       "      <td>3.000000</td>\n",
       "      <td>3.000000</td>\n",
       "      <td>NaN</td>\n",
       "      <td>0.000000</td>\n",
       "      <td>4.000000e+06</td>\n",
       "    </tr>\n",
       "    <tr>\n",
       "      <th>60%</th>\n",
       "      <td>NaN</td>\n",
       "      <td>4.000000</td>\n",
       "      <td>4.000000</td>\n",
       "      <td>NaN</td>\n",
       "      <td>0.000000</td>\n",
       "      <td>5.000000e+06</td>\n",
       "    </tr>\n",
       "    <tr>\n",
       "      <th>70%</th>\n",
       "      <td>NaN</td>\n",
       "      <td>4.000000</td>\n",
       "      <td>4.000000</td>\n",
       "      <td>NaN</td>\n",
       "      <td>0.000000</td>\n",
       "      <td>6.500000e+06</td>\n",
       "    </tr>\n",
       "    <tr>\n",
       "      <th>80%</th>\n",
       "      <td>NaN</td>\n",
       "      <td>4.000000</td>\n",
       "      <td>4.000000</td>\n",
       "      <td>NaN</td>\n",
       "      <td>0.000000</td>\n",
       "      <td>9.000000e+06</td>\n",
       "    </tr>\n",
       "    <tr>\n",
       "      <th>90%</th>\n",
       "      <td>NaN</td>\n",
       "      <td>4.000000</td>\n",
       "      <td>4.000000</td>\n",
       "      <td>NaN</td>\n",
       "      <td>3.000000</td>\n",
       "      <td>1.500000e+07</td>\n",
       "    </tr>\n",
       "    <tr>\n",
       "      <th>95%</th>\n",
       "      <td>NaN</td>\n",
       "      <td>4.000000</td>\n",
       "      <td>5.000000</td>\n",
       "      <td>NaN</td>\n",
       "      <td>3.000000</td>\n",
       "      <td>1.800000e+07</td>\n",
       "    </tr>\n",
       "    <tr>\n",
       "      <th>96%</th>\n",
       "      <td>NaN</td>\n",
       "      <td>4.000000</td>\n",
       "      <td>5.000000</td>\n",
       "      <td>NaN</td>\n",
       "      <td>3.000000</td>\n",
       "      <td>2.000000e+07</td>\n",
       "    </tr>\n",
       "    <tr>\n",
       "      <th>97%</th>\n",
       "      <td>NaN</td>\n",
       "      <td>4.000000</td>\n",
       "      <td>5.000000</td>\n",
       "      <td>NaN</td>\n",
       "      <td>4.000000</td>\n",
       "      <td>2.400000e+07</td>\n",
       "    </tr>\n",
       "    <tr>\n",
       "      <th>98%</th>\n",
       "      <td>NaN</td>\n",
       "      <td>4.000000</td>\n",
       "      <td>5.000000</td>\n",
       "      <td>NaN</td>\n",
       "      <td>4.000000</td>\n",
       "      <td>2.515200e+07</td>\n",
       "    </tr>\n",
       "    <tr>\n",
       "      <th>99%</th>\n",
       "      <td>NaN</td>\n",
       "      <td>4.000000</td>\n",
       "      <td>5.000000</td>\n",
       "      <td>NaN</td>\n",
       "      <td>4.000000</td>\n",
       "      <td>3.600000e+07</td>\n",
       "    </tr>\n",
       "    <tr>\n",
       "      <th>99.4%</th>\n",
       "      <td>NaN</td>\n",
       "      <td>4.000000</td>\n",
       "      <td>5.000000</td>\n",
       "      <td>NaN</td>\n",
       "      <td>4.000000</td>\n",
       "      <td>4.000000e+07</td>\n",
       "    </tr>\n",
       "    <tr>\n",
       "      <th>max</th>\n",
       "      <td>NaN</td>\n",
       "      <td>4.000000</td>\n",
       "      <td>5.000000</td>\n",
       "      <td>NaN</td>\n",
       "      <td>10.000000</td>\n",
       "      <td>5.580000e+07</td>\n",
       "    </tr>\n",
       "  </tbody>\n",
       "</table>\n",
       "</div>"
      ],
      "text/plain": [
       "                      Price         Beds        Baths  \\\n",
       "count                  2313  2313.000000  2313.000000   \n",
       "unique                  161          NaN          NaN   \n",
       "top     N3,500,000 per year          NaN          NaN   \n",
       "freq                    262          NaN          NaN   \n",
       "mean                    NaN     2.983571     3.123649   \n",
       "std                     NaN     1.186606     1.290878   \n",
       "min                     NaN     0.000000     0.000000   \n",
       "10%                     NaN     1.000000     1.000000   \n",
       "20%                     NaN     2.000000     2.000000   \n",
       "30%                     NaN     3.000000     3.000000   \n",
       "40%                     NaN     3.000000     3.000000   \n",
       "50%                     NaN     3.000000     3.000000   \n",
       "60%                     NaN     4.000000     4.000000   \n",
       "70%                     NaN     4.000000     4.000000   \n",
       "80%                     NaN     4.000000     4.000000   \n",
       "90%                     NaN     4.000000     4.000000   \n",
       "95%                     NaN     4.000000     5.000000   \n",
       "96%                     NaN     4.000000     5.000000   \n",
       "97%                     NaN     4.000000     5.000000   \n",
       "98%                     NaN     4.000000     5.000000   \n",
       "99%                     NaN     4.000000     5.000000   \n",
       "99.4%                   NaN     4.000000     5.000000   \n",
       "max                     NaN     4.000000     5.000000   \n",
       "\n",
       "                       Description       Garage    Real_Price  \n",
       "count                         2313  2313.000000  2.313000e+03  \n",
       "unique                          41          NaN           NaN  \n",
       "top     3 Bedroom Flat & Apartment          NaN           NaN  \n",
       "freq                           707          NaN           NaN  \n",
       "mean                           NaN     0.493299  6.489733e+06  \n",
       "std                            NaN     1.160954  6.624094e+06  \n",
       "min                            NaN     0.000000  4.200000e+05  \n",
       "10%                            NaN     0.000000  1.820000e+06  \n",
       "20%                            NaN     0.000000  2.700000e+06  \n",
       "30%                            NaN     0.000000  3.000000e+06  \n",
       "40%                            NaN     0.000000  3.500000e+06  \n",
       "50%                            NaN     0.000000  4.000000e+06  \n",
       "60%                            NaN     0.000000  5.000000e+06  \n",
       "70%                            NaN     0.000000  6.500000e+06  \n",
       "80%                            NaN     0.000000  9.000000e+06  \n",
       "90%                            NaN     3.000000  1.500000e+07  \n",
       "95%                            NaN     3.000000  1.800000e+07  \n",
       "96%                            NaN     3.000000  2.000000e+07  \n",
       "97%                            NaN     4.000000  2.400000e+07  \n",
       "98%                            NaN     4.000000  2.515200e+07  \n",
       "99%                            NaN     4.000000  3.600000e+07  \n",
       "99.4%                          NaN     4.000000  4.000000e+07  \n",
       "max                            NaN    10.000000  5.580000e+07  "
      ]
     },
     "execution_count": 79,
     "metadata": {},
     "output_type": "execute_result"
    }
   ],
   "source": [
    "newer_df5.describe(include=\"all\",percentiles = [0.1,0.2,0.3,0.4,0.5,0.6,0.7,0.8,0.9,0.95,0.96,0.97,0.98,0.99,0.994])"
   ]
  },
  {
   "cell_type": "code",
   "execution_count": 85,
   "metadata": {},
   "outputs": [
    {
     "name": "stderr",
     "output_type": "stream",
     "text": [
      "C:\\ProgramData\\Anaconda3\\lib\\site-packages\\ipykernel_launcher.py:1: SettingWithCopyWarning: \n",
      "A value is trying to be set on a copy of a slice from a DataFrame.\n",
      "Try using .loc[row_indexer,col_indexer] = value instead\n",
      "\n",
      "See the caveats in the documentation: http://pandas.pydata.org/pandas-docs/stable/indexing.html#indexing-view-versus-copy\n",
      "  \"\"\"Entry point for launching an IPython kernel.\n"
     ]
    }
   ],
   "source": [
    "newer_df5[\"log_price\"] = newer_df5[\"Real_Price\"].apply(np.log) #log price is abetter representation of price because of the large and \n",
    "#relatively far apart figures"
   ]
  },
  {
   "cell_type": "code",
   "execution_count": 86,
   "metadata": {},
   "outputs": [
    {
     "data": {
      "text/html": [
       "<div>\n",
       "<style scoped>\n",
       "    .dataframe tbody tr th:only-of-type {\n",
       "        vertical-align: middle;\n",
       "    }\n",
       "\n",
       "    .dataframe tbody tr th {\n",
       "        vertical-align: top;\n",
       "    }\n",
       "\n",
       "    .dataframe thead th {\n",
       "        text-align: right;\n",
       "    }\n",
       "</style>\n",
       "<table border=\"1\" class=\"dataframe\">\n",
       "  <thead>\n",
       "    <tr style=\"text-align: right;\">\n",
       "      <th></th>\n",
       "      <th>Price</th>\n",
       "      <th>Beds</th>\n",
       "      <th>Baths</th>\n",
       "      <th>Description</th>\n",
       "      <th>Garage</th>\n",
       "      <th>Real_Price</th>\n",
       "      <th>log_price</th>\n",
       "    </tr>\n",
       "  </thead>\n",
       "  <tbody>\n",
       "    <tr>\n",
       "      <th>0</th>\n",
       "      <td>N25,000,000 per year</td>\n",
       "      <td>3</td>\n",
       "      <td>5</td>\n",
       "      <td>3 Bedroom Flat &amp; Apartment</td>\n",
       "      <td>0</td>\n",
       "      <td>25000000</td>\n",
       "      <td>17.034386</td>\n",
       "    </tr>\n",
       "    <tr>\n",
       "      <th>1</th>\n",
       "      <td>N2,500,000 per year</td>\n",
       "      <td>4</td>\n",
       "      <td>5</td>\n",
       "      <td>4 Bedroom Duplex</td>\n",
       "      <td>0</td>\n",
       "      <td>2500000</td>\n",
       "      <td>14.731801</td>\n",
       "    </tr>\n",
       "    <tr>\n",
       "      <th>2</th>\n",
       "      <td>N2,300,000 per year</td>\n",
       "      <td>1</td>\n",
       "      <td>1</td>\n",
       "      <td>Flat &amp; Apartment</td>\n",
       "      <td>1</td>\n",
       "      <td>2300000</td>\n",
       "      <td>14.648420</td>\n",
       "    </tr>\n",
       "    <tr>\n",
       "      <th>3</th>\n",
       "      <td>N3,000,000 per year</td>\n",
       "      <td>4</td>\n",
       "      <td>4</td>\n",
       "      <td>4 Bedroom Terrace</td>\n",
       "      <td>2</td>\n",
       "      <td>3000000</td>\n",
       "      <td>14.914123</td>\n",
       "    </tr>\n",
       "    <tr>\n",
       "      <th>4</th>\n",
       "      <td>N5,500,000 per year</td>\n",
       "      <td>4</td>\n",
       "      <td>4</td>\n",
       "      <td>4 Bedroom Townhouse</td>\n",
       "      <td>0</td>\n",
       "      <td>5500000</td>\n",
       "      <td>15.520259</td>\n",
       "    </tr>\n",
       "  </tbody>\n",
       "</table>\n",
       "</div>"
      ],
      "text/plain": [
       "                  Price  Beds  Baths                 Description  Garage  \\\n",
       "0  N25,000,000 per year     3      5  3 Bedroom Flat & Apartment       0   \n",
       "1   N2,500,000 per year     4      5            4 Bedroom Duplex       0   \n",
       "2   N2,300,000 per year     1      1            Flat & Apartment       1   \n",
       "3   N3,000,000 per year     4      4           4 Bedroom Terrace       2   \n",
       "4   N5,500,000 per year     4      4         4 Bedroom Townhouse       0   \n",
       "\n",
       "   Real_Price  log_price  \n",
       "0    25000000  17.034386  \n",
       "1     2500000  14.731801  \n",
       "2     2300000  14.648420  \n",
       "3     3000000  14.914123  \n",
       "4     5500000  15.520259  "
      ]
     },
     "execution_count": 86,
     "metadata": {},
     "output_type": "execute_result"
    }
   ],
   "source": [
    "newer_df5.head()"
   ]
  },
  {
   "cell_type": "markdown",
   "metadata": {},
   "source": [
    "The next step would be to get the dependent and independent variables.."
   ]
  },
  {
   "cell_type": "code",
   "execution_count": 146,
   "metadata": {},
   "outputs": [],
   "source": [
    "x = newer_df5.iloc[:,[1,2,3,4]] #independent variables\n",
    "y= newer_df5.iloc[:,-1] #dependent variable"
   ]
  },
  {
   "cell_type": "markdown",
   "metadata": {},
   "source": [
    "Next step will be to convert the categorical column to dummies"
   ]
  },
  {
   "cell_type": "code",
   "execution_count": 147,
   "metadata": {},
   "outputs": [],
   "source": [
    "x_dum = pd.get_dummies(x,drop_first = True)"
   ]
  },
  {
   "cell_type": "markdown",
   "metadata": {},
   "source": [
    "Next step will be to split the dataset into train and test"
   ]
  },
  {
   "cell_type": "code",
   "execution_count": 148,
   "metadata": {},
   "outputs": [],
   "source": [
    "from sklearn.model_selection import train_test_split"
   ]
  },
  {
   "cell_type": "code",
   "execution_count": 150,
   "metadata": {},
   "outputs": [],
   "source": [
    "x_train,x_test,y_train,y_test = train_test_split(x_dum,y,test_size = 0.2, random_state = 42)"
   ]
  },
  {
   "cell_type": "markdown",
   "metadata": {},
   "source": [
    "NOW, BASED ON MY CURRENT KNOWLEDGE, THIS IS A REGRESSION PROBLEM, SO WE WILL APPLY DIFFERENT REGRESSION ALGORITHMS\n"
   ]
  },
  {
   "cell_type": "markdown",
   "metadata": {},
   "source": [
    "CHECKING FOR NORMAL DISTRIBUTION IN THE VARIABLES"
   ]
  },
  {
   "cell_type": "markdown",
   "metadata": {},
   "source": [
    "Let us see distplot for the DEPENDENT variable."
   ]
  },
  {
   "cell_type": "code",
   "execution_count": 94,
   "metadata": {},
   "outputs": [
    {
     "data": {
      "text/plain": [
       "<matplotlib.axes._subplots.AxesSubplot at 0x1d189be48d0>"
      ]
     },
     "execution_count": 94,
     "metadata": {},
     "output_type": "execute_result"
    },
    {
     "data": {
      "image/png": "[encoded data removed]",
      "text/plain": [
       "<Figure size 432x288 with 1 Axes>"
      ]
     },
     "metadata": {
      "needs_background": "light"
     },
     "output_type": "display_data"
    }
   ],
   "source": [
    "sns.distplot(newer_df5[\"log_price\"])"
   ]
  },
  {
   "cell_type": "markdown",
   "metadata": {},
   "source": [
    "And...yeah.... log(price) is normally distributed"
   ]
  },
  {
   "cell_type": "markdown",
   "metadata": {},
   "source": [
    "THE INDEPENDENT VARIABLES"
   ]
  },
  {
   "cell_type": "code",
   "execution_count": 105,
   "metadata": {},
   "outputs": [
    {
     "data": {
      "text/plain": [
       "<matplotlib.axes._subplots.AxesSubplot at 0x1d18b663be0>"
      ]
     },
     "execution_count": 105,
     "metadata": {},
     "output_type": "execute_result"
    },
    {
     "data": {
      "image/png": "[encoded data removed]",
      "text/plain": [
       "<Figure size 432x288 with 1 Axes>"
      ]
     },
     "metadata": {
      "needs_background": "light"
     },
     "output_type": "display_data"
    }
   ],
   "source": [
    "sns.distplot(newer_df5[\"Beds\"],kde_kws = {\"bw\":1})"
   ]
  },
  {
   "cell_type": "code",
   "execution_count": 106,
   "metadata": {},
   "outputs": [
    {
     "data": {
      "text/plain": [
       "<matplotlib.axes._subplots.AxesSubplot at 0x1d18b6d3860>"
      ]
     },
     "execution_count": 106,
     "metadata": {},
     "output_type": "execute_result"
    },
    {
     "data": {
      "image/png": "[encoded data removed]",
      "text/plain": [
       "<Figure size 432x288 with 1 Axes>"
      ]
     },
     "metadata": {
      "needs_background": "light"
     },
     "output_type": "display_data"
    }
   ],
   "source": [
    "sns.distplot(newer_df5[\"Garage\"],kde_kws = {\"bw\":1})"
   ]
  },
  {
   "cell_type": "code",
   "execution_count": 108,
   "metadata": {},
   "outputs": [
    {
     "data": {
      "text/plain": [
       "<matplotlib.axes._subplots.AxesSubplot at 0x1d18b720128>"
      ]
     },
     "execution_count": 108,
     "metadata": {},
     "output_type": "execute_result"
    },
    {
     "data": {
      "image/png": "[encoded data removed]",
      "text/plain": [
       "<Figure size 432x288 with 1 Axes>"
      ]
     },
     "metadata": {
      "needs_background": "light"
     },
     "output_type": "display_data"
    }
   ],
   "source": [
    "sns.distplot(newer_df5[\"Baths\"],kde_kws = {\"bw\":1})"
   ]
  },
  {
   "cell_type": "markdown",
   "metadata": {},
   "source": [
    "NORMAL DISTRIBUTION WAS OBSERVED IN THE INDEPENDENT VARIABLES HISTOGRAM PLOTS ABOVE"
   ]
  },
  {
   "cell_type": "markdown",
   "metadata": {},
   "source": [
    "NOTE: ALPHA LEVEL OF SIGNIFICANCE IS SET TO 0.05"
   ]
  },
  {
   "cell_type": "markdown",
   "metadata": {},
   "source": [
    "# LINEAR REGRESSION"
   ]
  },
  {
   "cell_type": "markdown",
   "metadata": {},
   "source": [
    "NOW LET'S CHECK FOR LINEARITY"
   ]
  },
  {
   "cell_type": "code",
   "execution_count": 114,
   "metadata": {},
   "outputs": [
    {
     "data": {
      "text/plain": [
       "<matplotlib.collections.PathCollection at 0x1d18d15d588>"
      ]
     },
     "execution_count": 114,
     "metadata": {},
     "output_type": "execute_result"
    },
    {
     "data": {
      "image/png": "[encoded data removed]",
      "text/plain": [
       "<Figure size 432x288 with 1 Axes>"
      ]
     },
     "metadata": {
      "needs_background": "light"
     },
     "output_type": "display_data"
    }
   ],
   "source": [
    "plt.scatter(newer_df5[\"Beds\"],newer_df5[\"log_price\"])"
   ]
  },
  {
   "cell_type": "code",
   "execution_count": 115,
   "metadata": {},
   "outputs": [
    {
     "data": {
      "text/plain": [
       "<matplotlib.collections.PathCollection at 0x1d18d1bc3c8>"
      ]
     },
     "execution_count": 115,
     "metadata": {},
     "output_type": "execute_result"
    },
    {
     "data": {
      "image/png": "[encoded data removed]",
      "text/plain": [
       "<Figure size 432x288 with 1 Axes>"
      ]
     },
     "metadata": {
      "needs_background": "light"
     },
     "output_type": "display_data"
    }
   ],
   "source": [
    "plt.scatter(newer_df5[\"Baths\"],newer_df5[\"log_price\"])"
   ]
  },
  {
   "cell_type": "code",
   "execution_count": 117,
   "metadata": {},
   "outputs": [
    {
     "data": {
      "text/plain": [
       "<matplotlib.collections.PathCollection at 0x1d18d266278>"
      ]
     },
     "execution_count": 117,
     "metadata": {},
     "output_type": "execute_result"
    },
    {
     "data": {
      "image/png": "[encoded data removed]",
      "text/plain": [
       "<Figure size 432x288 with 1 Axes>"
      ]
     },
     "metadata": {
      "needs_background": "light"
     },
     "output_type": "display_data"
    }
   ],
   "source": [
    "plt.scatter(newer_df5[\"Garage\"],newer_df5[\"log_price\"],alpha=0.5)"
   ]
  },
  {
   "cell_type": "markdown",
   "metadata": {},
   "source": [
    "BASED ON THE PLOTS ABOVE, WE CAN SAY THAT THERE EXISTS, A DEGREE OF LINEARITY BETWEEN THE DEPENDENT AND INDEPENDENT VARIABLES. FOR BEDS AND BATHS, THE PLOTS WERE SIMILAR. FROM THE VALUE OF 1, THE HIGHEST POINTS ON THE DISCRETE VERTICAL LINES OF POINTS WAS INCREASING, DIFFERENCE IN THE LOWEST POINT WASN'T SIGNIFICANT UNTIL THE LAST VERTICAL LINE OF POINTS,PROBABLY INDICATING THAT HIGHER NUMBERS OF BATHS OR BEDS BETWEEN 1 AND 3 I.E 3 DOES NOT NECESSARILY MEAN THE PRICE CAN NOT TOUCH DOWN TO A LOW POINT. FOR GARAGE, THE LINEARITY IS CLEARER THOUGH MOST OF THE VALUES APPEAR TO BE ZERO AS SHOWN BY THE ALPHA PARAMETER."
   ]
  },
  {
   "cell_type": "markdown",
   "metadata": {},
   "source": [
    "THE SECOND CHECK IS NO ENDOGENEITY OF REGRESSORS. OUR RESULT WILL GIVE US A HINT ON THAT.I.E WHETHER WE LEFT OUT AN IMPORTANT VARIABLE THAT GOT INCLUDED IN THE ERROR."
   ]
  },
  {
   "cell_type": "markdown",
   "metadata": {},
   "source": [
    "THE THIRD CHECK IS NORMALITY, ZERO MEAN AND HOMOSCEDASTICITY.. NORMALITY WILL BE CHECKED AFTER PREDICTING VALUES WITH OUR TRAINED MODEL I.E DISTPLOT OF (TRUE-Y) - (PREDICTED-Y) . HETEROSCEDASTICITY WAS PREVENTED BY TAKING THE LOG OF THE DEPENDENT VARIABLE. ZERO MEAN OF ERROR TERMS WOULD BE ENSURED BY INCLUDING AN INTERCEPT.SKLEARN DOES THIS BY DEFAULT.\n"
   ]
  },
  {
   "cell_type": "markdown",
   "metadata": {},
   "source": [
    "THE 4TH CHECK IS NO AUTOCORRELATION WHICH IS NOT A PROBLEM IN THIS DATASET BECAUSE IT REFLECTS A PARTICULAR STATE IN TIME I.E IT IS NOT PANEL OR TIME SERIES DATA. IT IS CROSS-SECTIONAL DATA. SECTIONS OF THE DATA DO NOT HAVE DEPENDENCIES ON THEMSELVES"
   ]
  },
  {
   "cell_type": "markdown",
   "metadata": {},
   "source": [
    "THE 5TH CHECK IS MULTICOLLINEARITY"
   ]
  },
  {
   "cell_type": "code",
   "execution_count": 120,
   "metadata": {},
   "outputs": [],
   "source": [
    "from statsmodels.stats.outliers_influence import variance_inflation_factor"
   ]
  },
  {
   "cell_type": "code",
   "execution_count": 135,
   "metadata": {},
   "outputs": [],
   "source": [
    "variables = newer_df5[[\"Beds\",\"Baths\",\"Garage\"]]"
   ]
  },
  {
   "cell_type": "code",
   "execution_count": 136,
   "metadata": {},
   "outputs": [],
   "source": [
    "vif = pd.DataFrame()"
   ]
  },
  {
   "cell_type": "code",
   "execution_count": 137,
   "metadata": {},
   "outputs": [],
   "source": [
    "vif[\"VIF\"] = [variance_inflation_factor(variables.values,i) for i in range(variables.shape[1])]"
   ]
  },
  {
   "cell_type": "code",
   "execution_count": 138,
   "metadata": {},
   "outputs": [],
   "source": [
    "vif[\"features\"] = variables.columns"
   ]
  },
  {
   "cell_type": "code",
   "execution_count": 139,
   "metadata": {},
   "outputs": [
    {
     "data": {
      "text/html": [
       "<div>\n",
       "<style scoped>\n",
       "    .dataframe tbody tr th:only-of-type {\n",
       "        vertical-align: middle;\n",
       "    }\n",
       "\n",
       "    .dataframe tbody tr th {\n",
       "        vertical-align: top;\n",
       "    }\n",
       "\n",
       "    .dataframe thead th {\n",
       "        text-align: right;\n",
       "    }\n",
       "</style>\n",
       "<table border=\"1\" class=\"dataframe\">\n",
       "  <thead>\n",
       "    <tr style=\"text-align: right;\">\n",
       "      <th></th>\n",
       "      <th>VIF</th>\n",
       "      <th>features</th>\n",
       "    </tr>\n",
       "  </thead>\n",
       "  <tbody>\n",
       "    <tr>\n",
       "      <th>0</th>\n",
       "      <td>66.000047</td>\n",
       "      <td>Beds</td>\n",
       "    </tr>\n",
       "    <tr>\n",
       "      <th>1</th>\n",
       "      <td>65.424518</td>\n",
       "      <td>Baths</td>\n",
       "    </tr>\n",
       "    <tr>\n",
       "      <th>2</th>\n",
       "      <td>1.227877</td>\n",
       "      <td>Garage</td>\n",
       "    </tr>\n",
       "  </tbody>\n",
       "</table>\n",
       "</div>"
      ],
      "text/plain": [
       "         VIF features\n",
       "0  66.000047     Beds\n",
       "1  65.424518    Baths\n",
       "2   1.227877   Garage"
      ]
     },
     "execution_count": 139,
     "metadata": {},
     "output_type": "execute_result"
    }
   ],
   "source": [
    "vif"
   ]
  },
  {
   "cell_type": "code",
   "execution_count": 140,
   "metadata": {},
   "outputs": [
    {
     "data": {
      "text/html": [
       "<div>\n",
       "<style scoped>\n",
       "    .dataframe tbody tr th:only-of-type {\n",
       "        vertical-align: middle;\n",
       "    }\n",
       "\n",
       "    .dataframe tbody tr th {\n",
       "        vertical-align: top;\n",
       "    }\n",
       "\n",
       "    .dataframe thead th {\n",
       "        text-align: right;\n",
       "    }\n",
       "</style>\n",
       "<table border=\"1\" class=\"dataframe\">\n",
       "  <thead>\n",
       "    <tr style=\"text-align: right;\">\n",
       "      <th></th>\n",
       "      <th>Beds</th>\n",
       "      <th>Baths</th>\n",
       "      <th>Garage</th>\n",
       "      <th>Real_Price</th>\n",
       "      <th>log_price</th>\n",
       "    </tr>\n",
       "  </thead>\n",
       "  <tbody>\n",
       "    <tr>\n",
       "      <th>Beds</th>\n",
       "      <td>1.000000</td>\n",
       "      <td>0.946141</td>\n",
       "      <td>0.192071</td>\n",
       "      <td>-0.068824</td>\n",
       "      <td>0.104169</td>\n",
       "    </tr>\n",
       "    <tr>\n",
       "      <th>Baths</th>\n",
       "      <td>0.946141</td>\n",
       "      <td>1.000000</td>\n",
       "      <td>0.167370</td>\n",
       "      <td>-0.039632</td>\n",
       "      <td>0.129686</td>\n",
       "    </tr>\n",
       "    <tr>\n",
       "      <th>Garage</th>\n",
       "      <td>0.192071</td>\n",
       "      <td>0.167370</td>\n",
       "      <td>1.000000</td>\n",
       "      <td>0.042914</td>\n",
       "      <td>0.082015</td>\n",
       "    </tr>\n",
       "    <tr>\n",
       "      <th>Real_Price</th>\n",
       "      <td>-0.068824</td>\n",
       "      <td>-0.039632</td>\n",
       "      <td>0.042914</td>\n",
       "      <td>1.000000</td>\n",
       "      <td>0.857617</td>\n",
       "    </tr>\n",
       "    <tr>\n",
       "      <th>log_price</th>\n",
       "      <td>0.104169</td>\n",
       "      <td>0.129686</td>\n",
       "      <td>0.082015</td>\n",
       "      <td>0.857617</td>\n",
       "      <td>1.000000</td>\n",
       "    </tr>\n",
       "  </tbody>\n",
       "</table>\n",
       "</div>"
      ],
      "text/plain": [
       "                Beds     Baths    Garage  Real_Price  log_price\n",
       "Beds        1.000000  0.946141  0.192071   -0.068824   0.104169\n",
       "Baths       0.946141  1.000000  0.167370   -0.039632   0.129686\n",
       "Garage      0.192071  0.167370  1.000000    0.042914   0.082015\n",
       "Real_Price -0.068824 -0.039632  0.042914    1.000000   0.857617\n",
       "log_price   0.104169  0.129686  0.082015    0.857617   1.000000"
      ]
     },
     "execution_count": 140,
     "metadata": {},
     "output_type": "execute_result"
    }
   ],
   "source": [
    "newer_df5.corr()"
   ]
  },
  {
   "cell_type": "code",
   "execution_count": 23,
   "metadata": {},
   "outputs": [
    {
     "data": {
      "text/plain": [
       "<matplotlib.axes._subplots.AxesSubplot at 0x1cb33c28710>"
      ]
     },
     "execution_count": 23,
     "metadata": {},
     "output_type": "execute_result"
    },
    {
     "data": {
      "image/png": "[encoded data removed]",
      "text/plain": [
       "<Figure size 432x288 with 2 Axes>"
      ]
     },
     "metadata": {
      "needs_background": "light"
     },
     "output_type": "display_data"
    }
   ],
   "source": [
    "sns.heatmap(newer_df5.corr(),cmap=\"rainbow\")"
   ]
  },
  {
   "cell_type": "markdown",
   "metadata": {},
   "source": [
    "VIF ABOVE 5 IS CONSIDERED HIGH......MAXIMUM CORRELATION VALUE IS 1\n",
    "\n",
    "BOTH THE VIF TABLE AND CORRELATION MATRIX SHOW A HIGH CORRELATION EXISTS BETWEEN BEDS AND BATHS MEANING WE ARE TO DROP ONE. BASED ON THE FACT THAT BEDS HAS A HIGHER VIF AND A LESSER CORRELATION WITH THE DEPENDENT VARIABLE...IT'LL PROLLY BE A GOOD IDEA TO TAKE OUT THE BEDS..BUT LET'S SEE HOW IT WILL FAIR IN THE REGRESSION FITTING.."
   ]
  },
  {
   "cell_type": "markdown",
   "metadata": {},
   "source": [
    "LET'S SEE HOW THE BEDS VARIABLE WILL FAIR IN THE REGRESSION FITTING.."
   ]
  },
  {
   "cell_type": "markdown",
   "metadata": {},
   "source": [
    "IN OTHER WORDS WE WILL BE IMPLEMENTING THE BACKWARD ELIMINATION METHOD FOR MODEL SELECTION"
   ]
  },
  {
   "cell_type": "code",
   "execution_count": 142,
   "metadata": {},
   "outputs": [],
   "source": [
    "from sklearn.linear_model import LinearRegression"
   ]
  },
  {
   "cell_type": "code",
   "execution_count": 151,
   "metadata": {},
   "outputs": [],
   "source": [
    "linear_regressor = LinearRegression()"
   ]
  },
  {
   "cell_type": "code",
   "execution_count": 152,
   "metadata": {},
   "outputs": [
    {
     "data": {
      "text/plain": [
       "LinearRegression(copy_X=True, fit_intercept=True, n_jobs=None,\n",
       "         normalize=False)"
      ]
     },
     "execution_count": 152,
     "metadata": {},
     "output_type": "execute_result"
    }
   ],
   "source": [
    "linear_regressor.fit(x_train,y_train)"
   ]
  },
  {
   "cell_type": "code",
   "execution_count": 154,
   "metadata": {},
   "outputs": [
    {
     "data": {
      "text/plain": [
       "0.2436554318676931"
      ]
     },
     "execution_count": 154,
     "metadata": {},
     "output_type": "execute_result"
    }
   ],
   "source": [
    "linear_regressor.score(x_train,y_train)"
   ]
  },
  {
   "cell_type": "markdown",
   "metadata": {},
   "source": [
    "For a more detailed and outlined view we will use statsmodels"
   ]
  },
  {
   "cell_type": "code",
   "execution_count": 156,
   "metadata": {},
   "outputs": [],
   "source": [
    "from statsmodels.api import OLS"
   ]
  },
  {
   "cell_type": "code",
   "execution_count": 167,
   "metadata": {},
   "outputs": [],
   "source": [
    "x_train_const = sm.add_constant(x_train)# THIS ENSURES ZERO MEAN OF ERROR TERMS"
   ]
  },
  {
   "cell_type": "code",
   "execution_count": 168,
   "metadata": {},
   "outputs": [],
   "source": [
    "result1 = sm.OLS(y_train,x_train_const).fit()"
   ]
  },
  {
   "cell_type": "code",
   "execution_count": 169,
   "metadata": {},
   "outputs": [
    {
     "data": {
      "text/html": [
       "<table class=\"simpletable\">\n",
       "<caption>OLS Regression Results</caption>\n",
       "<tr>\n",
       "  <th>Dep. Variable:</th>        <td>log_price</td>    <th>  R-squared:         </th> <td>   0.244</td>\n",
       "</tr>\n",
       "<tr>\n",
       "  <th>Model:</th>                   <td>OLS</td>       <th>  Adj. R-squared:    </th> <td>   0.226</td>\n",
       "</tr>\n",
       "<tr>\n",
       "  <th>Method:</th>             <td>Least Squares</td>  <th>  F-statistic:       </th> <td>   13.86</td>\n",
       "</tr>\n",
       "<tr>\n",
       "  <th>Date:</th>             <td>Sat, 12 Dec 2020</td> <th>  Prob (F-statistic):</th> <td>1.05e-81</td>\n",
       "</tr>\n",
       "<tr>\n",
       "  <th>Time:</th>                 <td>22:49:02</td>     <th>  Log-Likelihood:    </th> <td> -1934.6</td>\n",
       "</tr>\n",
       "<tr>\n",
       "  <th>No. Observations:</th>      <td>  1850</td>      <th>  AIC:               </th> <td>   3955.</td>\n",
       "</tr>\n",
       "<tr>\n",
       "  <th>Df Residuals:</th>          <td>  1807</td>      <th>  BIC:               </th> <td>   4193.</td>\n",
       "</tr>\n",
       "<tr>\n",
       "  <th>Df Model:</th>              <td>    42</td>      <th>                     </th>     <td> </td>   \n",
       "</tr>\n",
       "<tr>\n",
       "  <th>Covariance Type:</th>      <td>nonrobust</td>    <th>                     </th>     <td> </td>   \n",
       "</tr>\n",
       "</table>\n",
       "<table class=\"simpletable\">\n",
       "<tr>\n",
       "                      <td></td>                         <th>coef</th>     <th>std err</th>      <th>t</th>      <th>P>|t|</th>  <th>[0.025</th>    <th>0.975]</th>  \n",
       "</tr>\n",
       "<tr>\n",
       "  <th>const</th>                                     <td>   13.6116</td> <td>    2.145</td> <td>    6.346</td> <td> 0.000</td> <td>    9.405</td> <td>   17.818</td>\n",
       "</tr>\n",
       "<tr>\n",
       "  <th>Beds</th>                                      <td>    0.2229</td> <td>    0.706</td> <td>    0.316</td> <td> 0.752</td> <td>   -1.161</td> <td>    1.607</td>\n",
       "</tr>\n",
       "<tr>\n",
       "  <th>Baths</th>                                     <td>    0.2046</td> <td>    0.039</td> <td>    5.280</td> <td> 0.000</td> <td>    0.129</td> <td>    0.281</td>\n",
       "</tr>\n",
       "<tr>\n",
       "  <th>Garage</th>                                    <td>    0.0405</td> <td>    0.014</td> <td>    2.827</td> <td> 0.005</td> <td>    0.012</td> <td>    0.069</td>\n",
       "</tr>\n",
       "<tr>\n",
       "  <th>Description_ 3 Bedroom Office</th>             <td>    0.1031</td> <td>    0.805</td> <td>    0.128</td> <td> 0.898</td> <td>   -1.475</td> <td>    1.682</td>\n",
       "</tr>\n",
       "<tr>\n",
       "  <th>Description_ 4 Bedroom Duplex</th>             <td>   -0.1673</td> <td>    0.905</td> <td>   -0.185</td> <td> 0.853</td> <td>   -1.941</td> <td>    1.607</td>\n",
       "</tr>\n",
       "<tr>\n",
       "  <th>Description_ 4 Bedroom Flat & Apartment</th>   <td>    0.8977</td> <td>    1.069</td> <td>    0.840</td> <td> 0.401</td> <td>   -1.199</td> <td>    2.994</td>\n",
       "</tr>\n",
       "<tr>\n",
       "  <th>Description_ 4 Bedroom Terrace</th>            <td>-9.561e-15</td> <td> 8.04e-15</td> <td>   -1.189</td> <td> 0.235</td> <td>-2.53e-14</td> <td> 6.21e-15</td>\n",
       "</tr>\n",
       "<tr>\n",
       "  <th>Description_2 Bedroom Bungalow</th>            <td>   -0.6322</td> <td>    0.904</td> <td>   -0.699</td> <td> 0.485</td> <td>   -2.406</td> <td>    1.142</td>\n",
       "</tr>\n",
       "<tr>\n",
       "  <th>Description_2 Bedroom Commercial Property</th> <td>    0.0421</td> <td>    1.068</td> <td>    0.039</td> <td> 0.969</td> <td>   -2.052</td> <td>    2.136</td>\n",
       "</tr>\n",
       "<tr>\n",
       "  <th>Description_2 Bedroom Duplex</th>              <td>    0.1327</td> <td>    0.947</td> <td>    0.140</td> <td> 0.889</td> <td>   -1.725</td> <td>    1.991</td>\n",
       "</tr>\n",
       "<tr>\n",
       "  <th>Description_2 Bedroom Flat & Apartment</th>    <td>    0.4044</td> <td>    0.811</td> <td>    0.499</td> <td> 0.618</td> <td>   -1.186</td> <td>    1.995</td>\n",
       "</tr>\n",
       "<tr>\n",
       "  <th>Description_2 Bedroom House</th>               <td>    0.0860</td> <td>    0.904</td> <td>    0.095</td> <td> 0.924</td> <td>   -1.687</td> <td>    1.859</td>\n",
       "</tr>\n",
       "<tr>\n",
       "  <th>Description_2 Bedroom Office</th>              <td>   -0.4688</td> <td>    1.068</td> <td>   -0.439</td> <td> 0.661</td> <td>   -2.563</td> <td>    1.625</td>\n",
       "</tr>\n",
       "<tr>\n",
       "  <th>Description_2 Bedroom Terrace</th>             <td>    0.2820</td> <td>    0.904</td> <td>    0.312</td> <td> 0.755</td> <td>   -1.491</td> <td>    2.055</td>\n",
       "</tr>\n",
       "<tr>\n",
       "  <th>Description_3 Bedroom Bungalow</th>            <td>   -0.7822</td> <td>    0.532</td> <td>   -1.470</td> <td> 0.142</td> <td>   -1.826</td> <td>    0.262</td>\n",
       "</tr>\n",
       "<tr>\n",
       "  <th>Description_3 Bedroom Commercial Property</th> <td>    1.0507</td> <td>    0.533</td> <td>    1.970</td> <td> 0.049</td> <td>    0.005</td> <td>    2.097</td>\n",
       "</tr>\n",
       "<tr>\n",
       "  <th>Description_3 Bedroom Duplex</th>              <td>    0.3164</td> <td>    0.412</td> <td>    0.767</td> <td> 0.443</td> <td>   -0.492</td> <td>    1.125</td>\n",
       "</tr>\n",
       "<tr>\n",
       "  <th>Description_3 Bedroom Flat & Apartment</th>    <td>    0.4387</td> <td>    0.403</td> <td>    1.088</td> <td> 0.277</td> <td>   -0.352</td> <td>    1.230</td>\n",
       "</tr>\n",
       "<tr>\n",
       "  <th>Description_3 Bedroom Flat & Apartment\n",
       " </th>  <td>    0.2642</td> <td>    0.532</td> <td>    0.497</td> <td> 0.620</td> <td>   -0.779</td> <td>    1.308</td>\n",
       "</tr>\n",
       "<tr>\n",
       "  <th>Description_3 Bedroom House</th>               <td>    0.5851</td> <td>    0.450</td> <td>    1.301</td> <td> 0.194</td> <td>   -0.297</td> <td>    1.467</td>\n",
       "</tr>\n",
       "<tr>\n",
       "  <th>Description_3 Bedroom Office</th>              <td>    0.6752</td> <td>    0.532</td> <td>    1.269</td> <td> 0.205</td> <td>   -0.368</td> <td>    1.719</td>\n",
       "</tr>\n",
       "<tr>\n",
       "  <th>Description_3 Bedroom Terrace</th>             <td>    0.5098</td> <td>    0.416</td> <td>    1.226</td> <td> 0.220</td> <td>   -0.306</td> <td>    1.325</td>\n",
       "</tr>\n",
       "<tr>\n",
       "  <th>Description_3 Bedroom Townhouse</th>           <td>    1.1601</td> <td>    0.636</td> <td>    1.824</td> <td> 0.068</td> <td>   -0.087</td> <td>    2.408</td>\n",
       "</tr>\n",
       "<tr>\n",
       "  <th>Description_4 Bedroom Bungalow</th>            <td>   -0.4420</td> <td>    0.948</td> <td>   -0.466</td> <td> 0.641</td> <td>   -2.302</td> <td>    1.418</td>\n",
       "</tr>\n",
       "<tr>\n",
       "  <th>Description_4 Bedroom Commercial Property</th> <td>    0.1033</td> <td>    1.069</td> <td>    0.097</td> <td> 0.923</td> <td>   -1.992</td> <td>    2.199</td>\n",
       "</tr>\n",
       "<tr>\n",
       "  <th>Description_4 Bedroom Duplex</th>              <td>   -0.0533</td> <td>    0.811</td> <td>   -0.066</td> <td> 0.948</td> <td>   -1.643</td> <td>    1.536</td>\n",
       "</tr>\n",
       "<tr>\n",
       "  <th>Description_4 Bedroom Duplex\n",
       " </th>            <td>    0.3860</td> <td>    0.948</td> <td>    0.407</td> <td> 0.684</td> <td>   -1.474</td> <td>    2.246</td>\n",
       "</tr>\n",
       "<tr>\n",
       "  <th>Description_4 Bedroom Flat & Apartment</th>    <td>    0.7092</td> <td>    0.813</td> <td>    0.873</td> <td> 0.383</td> <td>   -0.885</td> <td>    2.303</td>\n",
       "</tr>\n",
       "<tr>\n",
       "  <th>Description_4 Bedroom House</th>               <td>    0.2364</td> <td>    0.816</td> <td>    0.290</td> <td> 0.772</td> <td>   -1.365</td> <td>    1.838</td>\n",
       "</tr>\n",
       "<tr>\n",
       "  <th>Description_4 Bedroom House\n",
       " </th>             <td>   -0.8129</td> <td>    1.069</td> <td>   -0.761</td> <td> 0.447</td> <td>   -2.909</td> <td>    1.283</td>\n",
       "</tr>\n",
       "<tr>\n",
       "  <th>Description_4 Bedroom Office</th>              <td>    0.2492</td> <td>    0.882</td> <td>    0.283</td> <td> 0.778</td> <td>   -1.480</td> <td>    1.979</td>\n",
       "</tr>\n",
       "<tr>\n",
       "  <th>Description_4 Bedroom Terrace</th>             <td>    0.0494</td> <td>    0.813</td> <td>    0.061</td> <td> 0.952</td> <td>   -1.545</td> <td>    1.643</td>\n",
       "</tr>\n",
       "<tr>\n",
       "  <th>Description_4 Bedroom Townhouse</th>           <td>    0.4976</td> <td>    0.837</td> <td>    0.595</td> <td> 0.552</td> <td>   -1.143</td> <td>    2.138</td>\n",
       "</tr>\n",
       "<tr>\n",
       "  <th>Description_Commercial Property</th>           <td>    2.5378</td> <td>    2.148</td> <td>    1.182</td> <td> 0.238</td> <td>   -1.675</td> <td>    6.750</td>\n",
       "</tr>\n",
       "<tr>\n",
       "  <th>Description_Flat & Apartment</th>              <td>    0.3515</td> <td>    1.464</td> <td>    0.240</td> <td> 0.810</td> <td>   -2.519</td> <td>    3.222</td>\n",
       "</tr>\n",
       "<tr>\n",
       "  <th>Description_Hotel</th>                         <td>    3.0635</td> <td>    2.167</td> <td>    1.413</td> <td> 0.158</td> <td>   -1.187</td> <td>    7.314</td>\n",
       "</tr>\n",
       "<tr>\n",
       "  <th>Description_House</th>                         <td>   -0.8012</td> <td>    1.542</td> <td>   -0.520</td> <td> 0.603</td> <td>   -3.825</td> <td>    2.222</td>\n",
       "</tr>\n",
       "<tr>\n",
       "  <th>Description_House\n",
       " </th>                       <td>   -0.9167</td> <td>    1.618</td> <td>   -0.566</td> <td> 0.571</td> <td>   -4.091</td> <td>    2.257</td>\n",
       "</tr>\n",
       "<tr>\n",
       "  <th>Description_Office</th>                        <td>    1.7690</td> <td>    2.137</td> <td>    0.828</td> <td> 0.408</td> <td>   -2.422</td> <td>    5.960</td>\n",
       "</tr>\n",
       "<tr>\n",
       "  <th>Description_Office\n",
       " </th>                      <td>    2.3576</td> <td>    2.201</td> <td>    1.071</td> <td> 0.284</td> <td>   -1.959</td> <td>    6.674</td>\n",
       "</tr>\n",
       "<tr>\n",
       "  <th>Description_Room or Boys Quarter</th>          <td>   -0.0413</td> <td>    2.173</td> <td>   -0.019</td> <td> 0.985</td> <td>   -4.303</td> <td>    4.220</td>\n",
       "</tr>\n",
       "<tr>\n",
       "  <th>Description_Shop</th>                          <td>    1.3269</td> <td>    2.151</td> <td>    0.617</td> <td> 0.537</td> <td>   -2.893</td> <td>    5.547</td>\n",
       "</tr>\n",
       "<tr>\n",
       "  <th>Description_Warehouse</th>                     <td>    3.0497</td> <td>    2.151</td> <td>    1.418</td> <td> 0.156</td> <td>   -1.169</td> <td>    7.269</td>\n",
       "</tr>\n",
       "</table>\n",
       "<table class=\"simpletable\">\n",
       "<tr>\n",
       "  <th>Omnibus:</th>       <td>54.246</td> <th>  Durbin-Watson:     </th> <td>   1.986</td>\n",
       "</tr>\n",
       "<tr>\n",
       "  <th>Prob(Omnibus):</th> <td> 0.000</td> <th>  Jarque-Bera (JB):  </th> <td>  60.427</td>\n",
       "</tr>\n",
       "<tr>\n",
       "  <th>Skew:</th>          <td> 0.392</td> <th>  Prob(JB):          </th> <td>7.56e-14</td>\n",
       "</tr>\n",
       "<tr>\n",
       "  <th>Kurtosis:</th>      <td> 3.412</td> <th>  Cond. No.          </th> <td>2.65e+18</td>\n",
       "</tr>\n",
       "</table><br/><br/>Warnings:<br/>[1] Standard Errors assume that the covariance matrix of the errors is correctly specified.<br/>[2] The smallest eigenvalue is 6.05e-33. This might indicate that there are<br/>strong multicollinearity problems or that the design matrix is singular."
      ],
      "text/plain": [
       "<class 'statsmodels.iolib.summary.Summary'>\n",
       "\"\"\"\n",
       "                            OLS Regression Results                            \n",
       "==============================================================================\n",
       "Dep. Variable:              log_price   R-squared:                       0.244\n",
       "Model:                            OLS   Adj. R-squared:                  0.226\n",
       "Method:                 Least Squares   F-statistic:                     13.86\n",
       "Date:                Sat, 12 Dec 2020   Prob (F-statistic):           1.05e-81\n",
       "Time:                        22:49:02   Log-Likelihood:                -1934.6\n",
       "No. Observations:                1850   AIC:                             3955.\n",
       "Df Residuals:                    1807   BIC:                             4193.\n",
       "Df Model:                          42                                         \n",
       "Covariance Type:            nonrobust                                         \n",
       "=============================================================================================================\n",
       "                                                coef    std err          t      P>|t|      [0.025      0.975]\n",
       "-------------------------------------------------------------------------------------------------------------\n",
       "const                                        13.6116      2.145      6.346      0.000       9.405      17.818\n",
       "Beds                                          0.2229      0.706      0.316      0.752      -1.161       1.607\n",
       "Baths                                         0.2046      0.039      5.280      0.000       0.129       0.281\n",
       "Garage                                        0.0405      0.014      2.827      0.005       0.012       0.069\n",
       "Description_ 3 Bedroom Office                 0.1031      0.805      0.128      0.898      -1.475       1.682\n",
       "Description_ 4 Bedroom Duplex                -0.1673      0.905     -0.185      0.853      -1.941       1.607\n",
       "Description_ 4 Bedroom Flat & Apartment       0.8977      1.069      0.840      0.401      -1.199       2.994\n",
       "Description_ 4 Bedroom Terrace            -9.561e-15   8.04e-15     -1.189      0.235   -2.53e-14    6.21e-15\n",
       "Description_2 Bedroom Bungalow               -0.6322      0.904     -0.699      0.485      -2.406       1.142\n",
       "Description_2 Bedroom Commercial Property     0.0421      1.068      0.039      0.969      -2.052       2.136\n",
       "Description_2 Bedroom Duplex                  0.1327      0.947      0.140      0.889      -1.725       1.991\n",
       "Description_2 Bedroom Flat & Apartment        0.4044      0.811      0.499      0.618      -1.186       1.995\n",
       "Description_2 Bedroom House                   0.0860      0.904      0.095      0.924      -1.687       1.859\n",
       "Description_2 Bedroom Office                 -0.4688      1.068     -0.439      0.661      -2.563       1.625\n",
       "Description_2 Bedroom Terrace                 0.2820      0.904      0.312      0.755      -1.491       2.055\n",
       "Description_3 Bedroom Bungalow               -0.7822      0.532     -1.470      0.142      -1.826       0.262\n",
       "Description_3 Bedroom Commercial Property     1.0507      0.533      1.970      0.049       0.005       2.097\n",
       "Description_3 Bedroom Duplex                  0.3164      0.412      0.767      0.443      -0.492       1.125\n",
       "Description_3 Bedroom Flat & Apartment        0.4387      0.403      1.088      0.277      -0.352       1.230\n",
       "Description_3 Bedroom Flat & Apartment\n",
       "       0.2642      0.532      0.497      0.620      -0.779       1.308\n",
       "Description_3 Bedroom House                   0.5851      0.450      1.301      0.194      -0.297       1.467\n",
       "Description_3 Bedroom Office                  0.6752      0.532      1.269      0.205      -0.368       1.719\n",
       "Description_3 Bedroom Terrace                 0.5098      0.416      1.226      0.220      -0.306       1.325\n",
       "Description_3 Bedroom Townhouse               1.1601      0.636      1.824      0.068      -0.087       2.408\n",
       "Description_4 Bedroom Bungalow               -0.4420      0.948     -0.466      0.641      -2.302       1.418\n",
       "Description_4 Bedroom Commercial Property     0.1033      1.069      0.097      0.923      -1.992       2.199\n",
       "Description_4 Bedroom Duplex                 -0.0533      0.811     -0.066      0.948      -1.643       1.536\n",
       "Description_4 Bedroom Duplex\n",
       "                 0.3860      0.948      0.407      0.684      -1.474       2.246\n",
       "Description_4 Bedroom Flat & Apartment        0.7092      0.813      0.873      0.383      -0.885       2.303\n",
       "Description_4 Bedroom House                   0.2364      0.816      0.290      0.772      -1.365       1.838\n",
       "Description_4 Bedroom House\n",
       "                 -0.8129      1.069     -0.761      0.447      -2.909       1.283\n",
       "Description_4 Bedroom Office                  0.2492      0.882      0.283      0.778      -1.480       1.979\n",
       "Description_4 Bedroom Terrace                 0.0494      0.813      0.061      0.952      -1.545       1.643\n",
       "Description_4 Bedroom Townhouse               0.4976      0.837      0.595      0.552      -1.143       2.138\n",
       "Description_Commercial Property               2.5378      2.148      1.182      0.238      -1.675       6.750\n",
       "Description_Flat & Apartment                  0.3515      1.464      0.240      0.810      -2.519       3.222\n",
       "Description_Hotel                             3.0635      2.167      1.413      0.158      -1.187       7.314\n",
       "Description_House                            -0.8012      1.542     -0.520      0.603      -3.825       2.222\n",
       "Description_House\n",
       "                           -0.9167      1.618     -0.566      0.571      -4.091       2.257\n",
       "Description_Office                            1.7690      2.137      0.828      0.408      -2.422       5.960\n",
       "Description_Office\n",
       "                           2.3576      2.201      1.071      0.284      -1.959       6.674\n",
       "Description_Room or Boys Quarter             -0.0413      2.173     -0.019      0.985      -4.303       4.220\n",
       "Description_Shop                              1.3269      2.151      0.617      0.537      -2.893       5.547\n",
       "Description_Warehouse                         3.0497      2.151      1.418      0.156      -1.169       7.269\n",
       "==============================================================================\n",
       "Omnibus:                       54.246   Durbin-Watson:                   1.986\n",
       "Prob(Omnibus):                  0.000   Jarque-Bera (JB):               60.427\n",
       "Skew:                           0.392   Prob(JB):                     7.56e-14\n",
       "Kurtosis:                       3.412   Cond. No.                     2.65e+18\n",
       "==============================================================================\n",
       "\n",
       "Warnings:\n",
       "[1] Standard Errors assume that the covariance matrix of the errors is correctly specified.\n",
       "[2] The smallest eigenvalue is 6.05e-33. This might indicate that there are\n",
       "strong multicollinearity problems or that the design matrix is singular.\n",
       "\"\"\""
      ]
     },
     "execution_count": 169,
     "metadata": {},
     "output_type": "execute_result"
    }
   ],
   "source": [
    "result1.summary()"
   ]
  },
  {
   "cell_type": "markdown",
   "metadata": {},
   "source": [
    "FROM THE TABLE ABOVE, IT CAN BE OBSERVED THAT P-VALUE FOR THE 'BEDS' VARIABLE IS QUITE HIGH ..UP TO 0.752 ABOVE THE ALPHA LEVEL OF SIGNIFICANCE IN THIS CASE 0.O5..DEPICTING THAT IT IS A USELESS VARIABLE. NOW WE HAVE 3 GOOD REASONS TO ELIMINATE IT: HIGH VIF..LESSER CORRELATION WITH THE DEPENDENT VARIABLE IN COMPARISON WITH THE 'BATHS' VARIABLE AND OF COURSE A RELATIVELY HIGH P-VALUE!"
   ]
  },
  {
   "cell_type": "markdown",
   "metadata": {},
   "source": [
    "IT WOULD BE PREFERABLE TO GO BACK AND TAKE THE DATAFRAME IN WHICH WE DID NOT REMOVE OUTLIERS IN THE BEDS TABLE AS THIS WOULD HAVE REDUCED SOME OF THE AVAILABLE VALUES IN THE USEFUL COLUMNS..IN THIS CASE THAT WOULD BE 'NEWER_DF4'"
   ]
  },
  {
   "cell_type": "code",
   "execution_count": 170,
   "metadata": {},
   "outputs": [
    {
     "data": {
      "text/html": [
       "<div>\n",
       "<style scoped>\n",
       "    .dataframe tbody tr th:only-of-type {\n",
       "        vertical-align: middle;\n",
       "    }\n",
       "\n",
       "    .dataframe tbody tr th {\n",
       "        vertical-align: top;\n",
       "    }\n",
       "\n",
       "    .dataframe thead th {\n",
       "        text-align: right;\n",
       "    }\n",
       "</style>\n",
       "<table border=\"1\" class=\"dataframe\">\n",
       "  <thead>\n",
       "    <tr style=\"text-align: right;\">\n",
       "      <th></th>\n",
       "      <th>Price</th>\n",
       "      <th>Beds</th>\n",
       "      <th>Baths</th>\n",
       "      <th>Description</th>\n",
       "      <th>Garage</th>\n",
       "      <th>Real_Price</th>\n",
       "    </tr>\n",
       "  </thead>\n",
       "  <tbody>\n",
       "    <tr>\n",
       "      <th>0</th>\n",
       "      <td>N25,000,000 per year</td>\n",
       "      <td>3</td>\n",
       "      <td>5</td>\n",
       "      <td>3 Bedroom Flat &amp; Apartment</td>\n",
       "      <td>0</td>\n",
       "      <td>25000000</td>\n",
       "    </tr>\n",
       "    <tr>\n",
       "      <th>1</th>\n",
       "      <td>N2,500,000 per year</td>\n",
       "      <td>4</td>\n",
       "      <td>5</td>\n",
       "      <td>4 Bedroom Duplex</td>\n",
       "      <td>0</td>\n",
       "      <td>2500000</td>\n",
       "    </tr>\n",
       "    <tr>\n",
       "      <th>2</th>\n",
       "      <td>N2,300,000 per year</td>\n",
       "      <td>1</td>\n",
       "      <td>1</td>\n",
       "      <td>Flat &amp; Apartment</td>\n",
       "      <td>1</td>\n",
       "      <td>2300000</td>\n",
       "    </tr>\n",
       "    <tr>\n",
       "      <th>3</th>\n",
       "      <td>N3,000,000 per year</td>\n",
       "      <td>4</td>\n",
       "      <td>4</td>\n",
       "      <td>4 Bedroom Terrace</td>\n",
       "      <td>2</td>\n",
       "      <td>3000000</td>\n",
       "    </tr>\n",
       "    <tr>\n",
       "      <th>4</th>\n",
       "      <td>N5,500,000 per year</td>\n",
       "      <td>4</td>\n",
       "      <td>4</td>\n",
       "      <td>4 Bedroom Townhouse</td>\n",
       "      <td>0</td>\n",
       "      <td>5500000</td>\n",
       "    </tr>\n",
       "  </tbody>\n",
       "</table>\n",
       "</div>"
      ],
      "text/plain": [
       "                  Price  Beds  Baths                 Description  Garage  \\\n",
       "0  N25,000,000 per year     3      5  3 Bedroom Flat & Apartment       0   \n",
       "1   N2,500,000 per year     4      5            4 Bedroom Duplex       0   \n",
       "2   N2,300,000 per year     1      1            Flat & Apartment       1   \n",
       "3   N3,000,000 per year     4      4           4 Bedroom Terrace       2   \n",
       "4   N5,500,000 per year     4      4         4 Bedroom Townhouse       0   \n",
       "\n",
       "   Real_Price  \n",
       "0    25000000  \n",
       "1     2500000  \n",
       "2     2300000  \n",
       "3     3000000  \n",
       "4     5500000  "
      ]
     },
     "execution_count": 170,
     "metadata": {},
     "output_type": "execute_result"
    }
   ],
   "source": [
    "newer_df4.head() #dataframe before losing data to the removal of outliers in the useless \"beds\" column"
   ]
  },
  {
   "cell_type": "code",
   "execution_count": 171,
   "metadata": {},
   "outputs": [
    {
     "name": "stderr",
     "output_type": "stream",
     "text": [
      "C:\\ProgramData\\Anaconda3\\lib\\site-packages\\ipykernel_launcher.py:1: SettingWithCopyWarning: \n",
      "A value is trying to be set on a copy of a slice from a DataFrame.\n",
      "Try using .loc[row_indexer,col_indexer] = value instead\n",
      "\n",
      "See the caveats in the documentation: http://pandas.pydata.org/pandas-docs/stable/indexing.html#indexing-view-versus-copy\n",
      "  \"\"\"Entry point for launching an IPython kernel.\n"
     ]
    }
   ],
   "source": [
    "newer_df4[\"log_price\"] = newer_df4[\"Real_Price\"].apply(np.log) #log price is abetter representation of price because of the large and \n",
    "#relatively far apart figures"
   ]
  },
  {
   "cell_type": "code",
   "execution_count": 172,
   "metadata": {},
   "outputs": [
    {
     "data": {
      "text/html": [
       "<div>\n",
       "<style scoped>\n",
       "    .dataframe tbody tr th:only-of-type {\n",
       "        vertical-align: middle;\n",
       "    }\n",
       "\n",
       "    .dataframe tbody tr th {\n",
       "        vertical-align: top;\n",
       "    }\n",
       "\n",
       "    .dataframe thead th {\n",
       "        text-align: right;\n",
       "    }\n",
       "</style>\n",
       "<table border=\"1\" class=\"dataframe\">\n",
       "  <thead>\n",
       "    <tr style=\"text-align: right;\">\n",
       "      <th></th>\n",
       "      <th>Price</th>\n",
       "      <th>Beds</th>\n",
       "      <th>Baths</th>\n",
       "      <th>Description</th>\n",
       "      <th>Garage</th>\n",
       "      <th>Real_Price</th>\n",
       "      <th>log_price</th>\n",
       "    </tr>\n",
       "  </thead>\n",
       "  <tbody>\n",
       "    <tr>\n",
       "      <th>0</th>\n",
       "      <td>N25,000,000 per year</td>\n",
       "      <td>3</td>\n",
       "      <td>5</td>\n",
       "      <td>3 Bedroom Flat &amp; Apartment</td>\n",
       "      <td>0</td>\n",
       "      <td>25000000</td>\n",
       "      <td>17.034386</td>\n",
       "    </tr>\n",
       "    <tr>\n",
       "      <th>1</th>\n",
       "      <td>N2,500,000 per year</td>\n",
       "      <td>4</td>\n",
       "      <td>5</td>\n",
       "      <td>4 Bedroom Duplex</td>\n",
       "      <td>0</td>\n",
       "      <td>2500000</td>\n",
       "      <td>14.731801</td>\n",
       "    </tr>\n",
       "    <tr>\n",
       "      <th>2</th>\n",
       "      <td>N2,300,000 per year</td>\n",
       "      <td>1</td>\n",
       "      <td>1</td>\n",
       "      <td>Flat &amp; Apartment</td>\n",
       "      <td>1</td>\n",
       "      <td>2300000</td>\n",
       "      <td>14.648420</td>\n",
       "    </tr>\n",
       "    <tr>\n",
       "      <th>3</th>\n",
       "      <td>N3,000,000 per year</td>\n",
       "      <td>4</td>\n",
       "      <td>4</td>\n",
       "      <td>4 Bedroom Terrace</td>\n",
       "      <td>2</td>\n",
       "      <td>3000000</td>\n",
       "      <td>14.914123</td>\n",
       "    </tr>\n",
       "    <tr>\n",
       "      <th>4</th>\n",
       "      <td>N5,500,000 per year</td>\n",
       "      <td>4</td>\n",
       "      <td>4</td>\n",
       "      <td>4 Bedroom Townhouse</td>\n",
       "      <td>0</td>\n",
       "      <td>5500000</td>\n",
       "      <td>15.520259</td>\n",
       "    </tr>\n",
       "  </tbody>\n",
       "</table>\n",
       "</div>"
      ],
      "text/plain": [
       "                  Price  Beds  Baths                 Description  Garage  \\\n",
       "0  N25,000,000 per year     3      5  3 Bedroom Flat & Apartment       0   \n",
       "1   N2,500,000 per year     4      5            4 Bedroom Duplex       0   \n",
       "2   N2,300,000 per year     1      1            Flat & Apartment       1   \n",
       "3   N3,000,000 per year     4      4           4 Bedroom Terrace       2   \n",
       "4   N5,500,000 per year     4      4         4 Bedroom Townhouse       0   \n",
       "\n",
       "   Real_Price  log_price  \n",
       "0    25000000  17.034386  \n",
       "1     2500000  14.731801  \n",
       "2     2300000  14.648420  \n",
       "3     3000000  14.914123  \n",
       "4     5500000  15.520259  "
      ]
     },
     "execution_count": 172,
     "metadata": {},
     "output_type": "execute_result"
    }
   ],
   "source": [
    "newer_df4.head()"
   ]
  },
  {
   "cell_type": "code",
   "execution_count": 173,
   "metadata": {},
   "outputs": [],
   "source": [
    "x1=newer_df4.iloc[:,[2,3,4]]\n",
    "y1=newer_df4.iloc[:,-1]"
   ]
  },
  {
   "cell_type": "code",
   "execution_count": 175,
   "metadata": {},
   "outputs": [],
   "source": [
    "x1_dum = pd.get_dummies(x1,drop_first = True)"
   ]
  },
  {
   "cell_type": "code",
   "execution_count": 176,
   "metadata": {},
   "outputs": [],
   "source": [
    "x1_train,x1_test,y1_train,y1_test = train_test_split(x1_dum,y1,test_size =0.2,random_state =42)"
   ]
  },
  {
   "cell_type": "code",
   "execution_count": 189,
   "metadata": {},
   "outputs": [],
   "source": [
    "linear_regressor1 = LinearRegression()"
   ]
  },
  {
   "cell_type": "code",
   "execution_count": 190,
   "metadata": {},
   "outputs": [
    {
     "data": {
      "text/plain": [
       "LinearRegression(copy_X=True, fit_intercept=True, n_jobs=None,\n",
       "         normalize=False)"
      ]
     },
     "execution_count": 190,
     "metadata": {},
     "output_type": "execute_result"
    }
   ],
   "source": [
    "linear_regressor1.fit(x1_train,y1_train)"
   ]
  },
  {
   "cell_type": "code",
   "execution_count": 191,
   "metadata": {},
   "outputs": [
    {
     "data": {
      "text/plain": [
       "0.2551230859228891"
      ]
     },
     "execution_count": 191,
     "metadata": {},
     "output_type": "execute_result"
    }
   ],
   "source": [
    "linear_regressor1.score(x1_train,y1_train)"
   ]
  },
  {
   "cell_type": "markdown",
   "metadata": {},
   "source": [
    "NOW LETS USE STATMODELS TO GET A CLEARER PICTURE"
   ]
  },
  {
   "cell_type": "code",
   "execution_count": 196,
   "metadata": {},
   "outputs": [],
   "source": [
    "x1_train_const = sm.add_constant(x1_train)"
   ]
  },
  {
   "cell_type": "code",
   "execution_count": 198,
   "metadata": {},
   "outputs": [],
   "source": [
    "result2 = sm.OLS(y1_train,x1_train_const).fit()"
   ]
  },
  {
   "cell_type": "code",
   "execution_count": 199,
   "metadata": {},
   "outputs": [
    {
     "data": {
      "text/html": [
       "<table class=\"simpletable\">\n",
       "<caption>OLS Regression Results</caption>\n",
       "<tr>\n",
       "  <th>Dep. Variable:</th>        <td>log_price</td>    <th>  R-squared:         </th> <td>   0.255</td>\n",
       "</tr>\n",
       "<tr>\n",
       "  <th>Model:</th>                   <td>OLS</td>       <th>  Adj. R-squared:    </th> <td>   0.236</td>\n",
       "</tr>\n",
       "<tr>\n",
       "  <th>Method:</th>             <td>Least Squares</td>  <th>  F-statistic:       </th> <td>   13.03</td>\n",
       "</tr>\n",
       "<tr>\n",
       "  <th>Date:</th>             <td>Sun, 13 Dec 2020</td> <th>  Prob (F-statistic):</th> <td>2.92e-92</td>\n",
       "</tr>\n",
       "<tr>\n",
       "  <th>Time:</th>                 <td>05:28:19</td>     <th>  Log-Likelihood:    </th> <td> -2122.9</td>\n",
       "</tr>\n",
       "<tr>\n",
       "  <th>No. Observations:</th>      <td>  2032</td>      <th>  AIC:               </th> <td>   4352.</td>\n",
       "</tr>\n",
       "<tr>\n",
       "  <th>Df Residuals:</th>          <td>  1979</td>      <th>  BIC:               </th> <td>   4650.</td>\n",
       "</tr>\n",
       "<tr>\n",
       "  <th>Df Model:</th>              <td>    52</td>      <th>                     </th>     <td> </td>   \n",
       "</tr>\n",
       "<tr>\n",
       "  <th>Covariance Type:</th>      <td>nonrobust</td>    <th>                     </th>     <td> </td>   \n",
       "</tr>\n",
       "</table>\n",
       "<table class=\"simpletable\">\n",
       "<tr>\n",
       "                        <td></td>                          <th>coef</th>     <th>std err</th>      <th>t</th>      <th>P>|t|</th>  <th>[0.025</th>    <th>0.975]</th>  \n",
       "</tr>\n",
       "<tr>\n",
       "  <th>const</th>                                        <td>   14.4652</td> <td>    0.311</td> <td>   46.568</td> <td> 0.000</td> <td>   13.856</td> <td>   15.074</td>\n",
       "</tr>\n",
       "<tr>\n",
       "  <th>Baths</th>                                        <td>    0.2301</td> <td>    0.039</td> <td>    5.855</td> <td> 0.000</td> <td>    0.153</td> <td>    0.307</td>\n",
       "</tr>\n",
       "<tr>\n",
       "  <th>Garage</th>                                       <td>    0.0370</td> <td>    0.013</td> <td>    2.814</td> <td> 0.005</td> <td>    0.011</td> <td>    0.063</td>\n",
       "</tr>\n",
       "<tr>\n",
       "  <th>Description_ 3 Bedroom Office</th>                <td>   -0.1837</td> <td>    0.754</td> <td>   -0.244</td> <td> 0.807</td> <td>   -1.662</td> <td>    1.294</td>\n",
       "</tr>\n",
       "<tr>\n",
       "  <th>Description_ 4 Bedroom Duplex</th>                <td>   -0.2312</td> <td>    0.494</td> <td>   -0.468</td> <td> 0.640</td> <td>   -1.200</td> <td>    0.737</td>\n",
       "</tr>\n",
       "<tr>\n",
       "  <th>Description_ 4 Bedroom Flat & Apartment</th>      <td>-3.307e-15</td> <td>  3.4e-15</td> <td>   -0.971</td> <td> 0.332</td> <td>-9.98e-15</td> <td> 3.37e-15</td>\n",
       "</tr>\n",
       "<tr>\n",
       "  <th>Description_ 4 Bedroom Terrace</th>               <td>   -0.3173</td> <td>    0.754</td> <td>   -0.421</td> <td> 0.674</td> <td>   -1.795</td> <td>    1.161</td>\n",
       "</tr>\n",
       "<tr>\n",
       "  <th>Description_ 5 Bedroom Duplex</th>                <td>    0.7598</td> <td>    0.758</td> <td>    1.003</td> <td> 0.316</td> <td>   -0.727</td> <td>    2.246</td>\n",
       "</tr>\n",
       "<tr>\n",
       "  <th>Description_ 5 Bedroom Flat & Apartment</th>      <td>    1.4188</td> <td>    0.756</td> <td>    1.876</td> <td> 0.061</td> <td>   -0.064</td> <td>    2.902</td>\n",
       "</tr>\n",
       "<tr>\n",
       "  <th>Description_10 Bedroom Flat & Apartment</th>      <td>   -0.5473</td> <td>    0.756</td> <td>   -0.724</td> <td> 0.469</td> <td>   -2.031</td> <td>    0.936</td>\n",
       "</tr>\n",
       "<tr>\n",
       "  <th>Description_2 Bedroom Bungalow</th>               <td>   -0.9273</td> <td>    0.571</td> <td>   -1.624</td> <td> 0.105</td> <td>   -2.047</td> <td>    0.193</td>\n",
       "</tr>\n",
       "<tr>\n",
       "  <th>Description_2 Bedroom Commercial Property</th>    <td>-7.006e-15</td> <td> 3.14e-15</td> <td>   -2.228</td> <td> 0.026</td> <td>-1.32e-14</td> <td>-8.39e-16</td>\n",
       "</tr>\n",
       "<tr>\n",
       "  <th>Description_2 Bedroom Duplex</th>                 <td>   -0.3620</td> <td>    0.452</td> <td>   -0.800</td> <td> 0.424</td> <td>   -1.249</td> <td>    0.525</td>\n",
       "</tr>\n",
       "<tr>\n",
       "  <th>Description_2 Bedroom Flat & Apartment</th>       <td>   -0.0678</td> <td>    0.293</td> <td>   -0.232</td> <td> 0.817</td> <td>   -0.642</td> <td>    0.506</td>\n",
       "</tr>\n",
       "<tr>\n",
       "  <th>Description_2 Bedroom House</th>                  <td>   -0.1369</td> <td>    0.571</td> <td>   -0.240</td> <td> 0.811</td> <td>   -1.257</td> <td>    0.983</td>\n",
       "</tr>\n",
       "<tr>\n",
       "  <th>Description_2 Bedroom Office</th>                 <td>   -0.9276</td> <td>    0.754</td> <td>   -1.230</td> <td> 0.219</td> <td>   -2.407</td> <td>    0.552</td>\n",
       "</tr>\n",
       "<tr>\n",
       "  <th>Description_2 Bedroom Terrace</th>                <td>    0.0444</td> <td>    0.452</td> <td>    0.098</td> <td> 0.922</td> <td>   -0.843</td> <td>    0.931</td>\n",
       "</tr>\n",
       "<tr>\n",
       "  <th>Description_2500000 Bedroom Flat & Apartment</th> <td>   -0.4977</td> <td>    0.753</td> <td>   -0.661</td> <td> 0.509</td> <td>   -1.975</td> <td>    0.979</td>\n",
       "</tr>\n",
       "<tr>\n",
       "  <th>Description_3 Bedroom Bungalow</th>               <td>   -0.9954</td> <td>    0.388</td> <td>   -2.567</td> <td> 0.010</td> <td>   -1.756</td> <td>   -0.235</td>\n",
       "</tr>\n",
       "<tr>\n",
       "  <th>Description_3 Bedroom Commercial Property</th>    <td>    0.5005</td> <td>    0.493</td> <td>    1.015</td> <td> 0.310</td> <td>   -0.466</td> <td>    1.467</td>\n",
       "</tr>\n",
       "<tr>\n",
       "  <th>Description_3 Bedroom Duplex</th>                 <td>    0.0819</td> <td>    0.297</td> <td>    0.276</td> <td> 0.783</td> <td>   -0.501</td> <td>    0.665</td>\n",
       "</tr>\n",
       "<tr>\n",
       "  <th>Description_3 Bedroom Flat & Apartment</th>       <td>    0.1342</td> <td>    0.286</td> <td>    0.469</td> <td> 0.639</td> <td>   -0.427</td> <td>    0.695</td>\n",
       "</tr>\n",
       "<tr>\n",
       "  <th>Description_3 Bedroom Flat & Apartment\n",
       " </th>     <td>   -0.0035</td> <td>    0.450</td> <td>   -0.008</td> <td> 0.994</td> <td>   -0.886</td> <td>    0.879</td>\n",
       "</tr>\n",
       "<tr>\n",
       "  <th>Description_3 Bedroom House</th>                  <td>    0.3721</td> <td>    0.344</td> <td>    1.081</td> <td> 0.280</td> <td>   -0.303</td> <td>    1.047</td>\n",
       "</tr>\n",
       "<tr>\n",
       "  <th>Description_3 Bedroom Office</th>                 <td>    0.4075</td> <td>    0.450</td> <td>    0.906</td> <td> 0.365</td> <td>   -0.475</td> <td>    1.290</td>\n",
       "</tr>\n",
       "<tr>\n",
       "  <th>Description_3 Bedroom Terrace</th>                <td>    0.2958</td> <td>    0.304</td> <td>    0.974</td> <td> 0.330</td> <td>   -0.300</td> <td>    0.892</td>\n",
       "</tr>\n",
       "<tr>\n",
       "  <th>Description_3 Bedroom Townhouse</th>              <td>    0.8987</td> <td>    0.569</td> <td>    1.579</td> <td> 0.114</td> <td>   -0.217</td> <td>    2.015</td>\n",
       "</tr>\n",
       "<tr>\n",
       "  <th>Description_3500000 Bedroom Duplex</th>           <td>-6.809e-15</td> <td> 5.25e-15</td> <td>   -1.298</td> <td> 0.194</td> <td>-1.71e-14</td> <td> 3.48e-15</td>\n",
       "</tr>\n",
       "<tr>\n",
       "  <th>Description_4 Bedroom Bungalow</th>               <td>   -0.5059</td> <td>    0.570</td> <td>   -0.887</td> <td> 0.375</td> <td>   -1.624</td> <td>    0.612</td>\n",
       "</tr>\n",
       "<tr>\n",
       "  <th>Description_4 Bedroom Commercial Property</th>    <td>-6.487e-16</td> <td> 1.47e-15</td> <td>   -0.442</td> <td> 0.658</td> <td>-3.53e-15</td> <td> 2.23e-15</td>\n",
       "</tr>\n",
       "<tr>\n",
       "  <th>Description_4 Bedroom Duplex</th>                 <td>   -0.1126</td> <td>    0.289</td> <td>   -0.390</td> <td> 0.697</td> <td>   -0.679</td> <td>    0.454</td>\n",
       "</tr>\n",
       "<tr>\n",
       "  <th>Description_4 Bedroom Duplex\n",
       " </th>               <td>    0.0323</td> <td>    0.495</td> <td>    0.065</td> <td> 0.948</td> <td>   -0.938</td> <td>    1.003</td>\n",
       "</tr>\n",
       "<tr>\n",
       "  <th>Description_4 Bedroom Flat & Apartment</th>       <td>    0.6442</td> <td>    0.297</td> <td>    2.167</td> <td> 0.030</td> <td>    0.061</td> <td>    1.227</td>\n",
       "</tr>\n",
       "<tr>\n",
       "  <th>Description_4 Bedroom House</th>                  <td>    0.2222</td> <td>    0.302</td> <td>    0.735</td> <td> 0.463</td> <td>   -0.371</td> <td>    0.815</td>\n",
       "</tr>\n",
       "<tr>\n",
       "  <th>Description_4 Bedroom House\n",
       " </th>                <td>-5.025e-15</td> <td> 5.75e-15</td> <td>   -0.874</td> <td> 0.382</td> <td>-1.63e-14</td> <td> 6.25e-15</td>\n",
       "</tr>\n",
       "<tr>\n",
       "  <th>Description_4 Bedroom Office</th>                 <td>    0.1852</td> <td>    0.451</td> <td>    0.411</td> <td> 0.681</td> <td>   -0.699</td> <td>    1.070</td>\n",
       "</tr>\n",
       "<tr>\n",
       "  <th>Description_4 Bedroom Terrace</th>                <td>    0.0030</td> <td>    0.296</td> <td>    0.010</td> <td> 0.992</td> <td>   -0.577</td> <td>    0.583</td>\n",
       "</tr>\n",
       "<tr>\n",
       "  <th>Description_4 Bedroom Townhouse</th>              <td>    0.3304</td> <td>    0.362</td> <td>    0.912</td> <td> 0.362</td> <td>   -0.380</td> <td>    1.041</td>\n",
       "</tr>\n",
       "<tr>\n",
       "  <th>Description_5 Bedroom Bungalow</th>               <td>    1.0038</td> <td>    0.498</td> <td>    2.015</td> <td> 0.044</td> <td>    0.027</td> <td>    1.981</td>\n",
       "</tr>\n",
       "<tr>\n",
       "  <th>Description_5 Bedroom Commercial Property</th>    <td>    0.5142</td> <td>    0.500</td> <td>    1.029</td> <td> 0.304</td> <td>   -0.466</td> <td>    1.494</td>\n",
       "</tr>\n",
       "<tr>\n",
       "  <th>Description_5 Bedroom Duplex</th>                 <td>   -0.0020</td> <td>    0.300</td> <td>   -0.007</td> <td> 0.995</td> <td>   -0.590</td> <td>    0.586</td>\n",
       "</tr>\n",
       "<tr>\n",
       "  <th>Description_5 Bedroom Duplex\n",
       " </th>               <td> 3.949e-15</td> <td> 4.03e-15</td> <td>    0.981</td> <td> 0.327</td> <td>-3.95e-15</td> <td> 1.18e-14</td>\n",
       "</tr>\n",
       "<tr>\n",
       "  <th>Description_5 Bedroom Flat & Apartment</th>       <td>    0.8013</td> <td>    0.360</td> <td>    2.224</td> <td> 0.026</td> <td>    0.095</td> <td>    1.508</td>\n",
       "</tr>\n",
       "<tr>\n",
       "  <th>Description_5 Bedroom House</th>                  <td>    0.4530</td> <td>    0.344</td> <td>    1.315</td> <td> 0.189</td> <td>   -0.222</td> <td>    1.128</td>\n",
       "</tr>\n",
       "<tr>\n",
       "  <th>Description_5 Bedroom Office</th>                 <td>    1.8888</td> <td>    0.756</td> <td>    2.497</td> <td> 0.013</td> <td>    0.406</td> <td>    3.372</td>\n",
       "</tr>\n",
       "<tr>\n",
       "  <th>Description_5 Bedroom Terrace</th>                <td>   -0.3042</td> <td>    0.374</td> <td>   -0.812</td> <td> 0.417</td> <td>   -1.038</td> <td>    0.430</td>\n",
       "</tr>\n",
       "<tr>\n",
       "  <th>Description_5 Bedroom Terrace\n",
       " </th>              <td>    1.4188</td> <td>    0.756</td> <td>    1.876</td> <td> 0.061</td> <td>   -0.064</td> <td>    2.902</td>\n",
       "</tr>\n",
       "<tr>\n",
       "  <th>Description_5 Bedroom Townhouse</th>              <td>    0.4498</td> <td>    0.574</td> <td>    0.784</td> <td> 0.433</td> <td>   -0.675</td> <td>    1.575</td>\n",
       "</tr>\n",
       "<tr>\n",
       "  <th>Description_6 Bedroom Duplex</th>                 <td>  9.54e-16</td> <td> 4.23e-16</td> <td>    2.256</td> <td> 0.024</td> <td> 1.25e-16</td> <td> 1.78e-15</td>\n",
       "</tr>\n",
       "<tr>\n",
       "  <th>Description_7 Bedroom House</th>                  <td>-4.649e-16</td> <td> 1.93e-16</td> <td>   -2.406</td> <td> 0.016</td> <td>-8.44e-16</td> <td> -8.6e-17</td>\n",
       "</tr>\n",
       "<tr>\n",
       "  <th>Description_9 Bedroom Flat & Apartment</th>       <td>    1.4257</td> <td>    0.754</td> <td>    1.892</td> <td> 0.059</td> <td>   -0.052</td> <td>    2.904</td>\n",
       "</tr>\n",
       "<tr>\n",
       "  <th>Description_Commercial Property</th>              <td>    1.5676</td> <td>    0.331</td> <td>    4.735</td> <td> 0.000</td> <td>    0.918</td> <td>    2.217</td>\n",
       "</tr>\n",
       "<tr>\n",
       "  <th>Description_Flat & Apartment</th>                 <td>   -0.3344</td> <td>    0.309</td> <td>   -1.082</td> <td> 0.279</td> <td>   -0.940</td> <td>    0.272</td>\n",
       "</tr>\n",
       "<tr>\n",
       "  <th>Description_Hotel</th>                            <td>    2.1170</td> <td>    0.421</td> <td>    5.026</td> <td> 0.000</td> <td>    1.291</td> <td>    2.943</td>\n",
       "</tr>\n",
       "<tr>\n",
       "  <th>Description_House</th>                            <td>   -1.2365</td> <td>    0.758</td> <td>   -1.632</td> <td> 0.103</td> <td>   -2.722</td> <td>    0.249</td>\n",
       "</tr>\n",
       "<tr>\n",
       "  <th>Description_House\n",
       " </th>                          <td>   -1.5729</td> <td>    0.758</td> <td>   -2.076</td> <td> 0.038</td> <td>   -3.059</td> <td>   -0.087</td>\n",
       "</tr>\n",
       "<tr>\n",
       "  <th>Description_Office</th>                           <td>    0.9643</td> <td>    0.320</td> <td>    3.015</td> <td> 0.003</td> <td>    0.337</td> <td>    1.592</td>\n",
       "</tr>\n",
       "<tr>\n",
       "  <th>Description_Office\n",
       " </th>                         <td>    0.8544</td> <td>    0.763</td> <td>    1.120</td> <td> 0.263</td> <td>   -0.642</td> <td>    2.351</td>\n",
       "</tr>\n",
       "<tr>\n",
       "  <th>Description_Room or Boys Quarter</th>             <td>   -0.7774</td> <td>    0.467</td> <td>   -1.665</td> <td> 0.096</td> <td>   -1.693</td> <td>    0.138</td>\n",
       "</tr>\n",
       "<tr>\n",
       "  <th>Description_Shop</th>                             <td>    0.4293</td> <td>    0.349</td> <td>    1.229</td> <td> 0.219</td> <td>   -0.256</td> <td>    1.114</td>\n",
       "</tr>\n",
       "<tr>\n",
       "  <th>Description_Warehouse</th>                        <td>    2.2834</td> <td>    0.351</td> <td>    6.498</td> <td> 0.000</td> <td>    1.594</td> <td>    2.973</td>\n",
       "</tr>\n",
       "</table>\n",
       "<table class=\"simpletable\">\n",
       "<tr>\n",
       "  <th>Omnibus:</th>       <td>74.914</td> <th>  Durbin-Watson:     </th> <td>   2.125</td>\n",
       "</tr>\n",
       "<tr>\n",
       "  <th>Prob(Omnibus):</th> <td> 0.000</td> <th>  Jarque-Bera (JB):  </th> <td>  86.743</td>\n",
       "</tr>\n",
       "<tr>\n",
       "  <th>Skew:</th>          <td> 0.438</td> <th>  Prob(JB):          </th> <td>1.46e-19</td>\n",
       "</tr>\n",
       "<tr>\n",
       "  <th>Kurtosis:</th>      <td> 3.507</td> <th>  Cond. No.          </th> <td>9.82e+17</td>\n",
       "</tr>\n",
       "</table><br/><br/>Warnings:<br/>[1] Standard Errors assume that the covariance matrix of the errors is correctly specified.<br/>[2] The smallest eigenvalue is 2.93e-32. This might indicate that there are<br/>strong multicollinearity problems or that the design matrix is singular."
      ],
      "text/plain": [
       "<class 'statsmodels.iolib.summary.Summary'>\n",
       "\"\"\"\n",
       "                            OLS Regression Results                            \n",
       "==============================================================================\n",
       "Dep. Variable:              log_price   R-squared:                       0.255\n",
       "Model:                            OLS   Adj. R-squared:                  0.236\n",
       "Method:                 Least Squares   F-statistic:                     13.03\n",
       "Date:                Sun, 13 Dec 2020   Prob (F-statistic):           2.92e-92\n",
       "Time:                        05:28:19   Log-Likelihood:                -2122.9\n",
       "No. Observations:                2032   AIC:                             4352.\n",
       "Df Residuals:                    1979   BIC:                             4650.\n",
       "Df Model:                          52                                         \n",
       "Covariance Type:            nonrobust                                         \n",
       "================================================================================================================\n",
       "                                                   coef    std err          t      P>|t|      [0.025      0.975]\n",
       "----------------------------------------------------------------------------------------------------------------\n",
       "const                                           14.4652      0.311     46.568      0.000      13.856      15.074\n",
       "Baths                                            0.2301      0.039      5.855      0.000       0.153       0.307\n",
       "Garage                                           0.0370      0.013      2.814      0.005       0.011       0.063\n",
       "Description_ 3 Bedroom Office                   -0.1837      0.754     -0.244      0.807      -1.662       1.294\n",
       "Description_ 4 Bedroom Duplex                   -0.2312      0.494     -0.468      0.640      -1.200       0.737\n",
       "Description_ 4 Bedroom Flat & Apartment      -3.307e-15    3.4e-15     -0.971      0.332   -9.98e-15    3.37e-15\n",
       "Description_ 4 Bedroom Terrace                  -0.3173      0.754     -0.421      0.674      -1.795       1.161\n",
       "Description_ 5 Bedroom Duplex                    0.7598      0.758      1.003      0.316      -0.727       2.246\n",
       "Description_ 5 Bedroom Flat & Apartment          1.4188      0.756      1.876      0.061      -0.064       2.902\n",
       "Description_10 Bedroom Flat & Apartment         -0.5473      0.756     -0.724      0.469      -2.031       0.936\n",
       "Description_2 Bedroom Bungalow                  -0.9273      0.571     -1.624      0.105      -2.047       0.193\n",
       "Description_2 Bedroom Commercial Property    -7.006e-15   3.14e-15     -2.228      0.026   -1.32e-14   -8.39e-16\n",
       "Description_2 Bedroom Duplex                    -0.3620      0.452     -0.800      0.424      -1.249       0.525\n",
       "Description_2 Bedroom Flat & Apartment          -0.0678      0.293     -0.232      0.817      -0.642       0.506\n",
       "Description_2 Bedroom House                     -0.1369      0.571     -0.240      0.811      -1.257       0.983\n",
       "Description_2 Bedroom Office                    -0.9276      0.754     -1.230      0.219      -2.407       0.552\n",
       "Description_2 Bedroom Terrace                    0.0444      0.452      0.098      0.922      -0.843       0.931\n",
       "Description_2500000 Bedroom Flat & Apartment    -0.4977      0.753     -0.661      0.509      -1.975       0.979\n",
       "Description_3 Bedroom Bungalow                  -0.9954      0.388     -2.567      0.010      -1.756      -0.235\n",
       "Description_3 Bedroom Commercial Property        0.5005      0.493      1.015      0.310      -0.466       1.467\n",
       "Description_3 Bedroom Duplex                     0.0819      0.297      0.276      0.783      -0.501       0.665\n",
       "Description_3 Bedroom Flat & Apartment           0.1342      0.286      0.469      0.639      -0.427       0.695\n",
       "Description_3 Bedroom Flat & Apartment\n",
       "         -0.0035      0.450     -0.008      0.994      -0.886       0.879\n",
       "Description_3 Bedroom House                      0.3721      0.344      1.081      0.280      -0.303       1.047\n",
       "Description_3 Bedroom Office                     0.4075      0.450      0.906      0.365      -0.475       1.290\n",
       "Description_3 Bedroom Terrace                    0.2958      0.304      0.974      0.330      -0.300       0.892\n",
       "Description_3 Bedroom Townhouse                  0.8987      0.569      1.579      0.114      -0.217       2.015\n",
       "Description_3500000 Bedroom Duplex           -6.809e-15   5.25e-15     -1.298      0.194   -1.71e-14    3.48e-15\n",
       "Description_4 Bedroom Bungalow                  -0.5059      0.570     -0.887      0.375      -1.624       0.612\n",
       "Description_4 Bedroom Commercial Property    -6.487e-16   1.47e-15     -0.442      0.658   -3.53e-15    2.23e-15\n",
       "Description_4 Bedroom Duplex                    -0.1126      0.289     -0.390      0.697      -0.679       0.454\n",
       "Description_4 Bedroom Duplex\n",
       "                    0.0323      0.495      0.065      0.948      -0.938       1.003\n",
       "Description_4 Bedroom Flat & Apartment           0.6442      0.297      2.167      0.030       0.061       1.227\n",
       "Description_4 Bedroom House                      0.2222      0.302      0.735      0.463      -0.371       0.815\n",
       "Description_4 Bedroom House\n",
       "                 -5.025e-15   5.75e-15     -0.874      0.382   -1.63e-14    6.25e-15\n",
       "Description_4 Bedroom Office                     0.1852      0.451      0.411      0.681      -0.699       1.070\n",
       "Description_4 Bedroom Terrace                    0.0030      0.296      0.010      0.992      -0.577       0.583\n",
       "Description_4 Bedroom Townhouse                  0.3304      0.362      0.912      0.362      -0.380       1.041\n",
       "Description_5 Bedroom Bungalow                   1.0038      0.498      2.015      0.044       0.027       1.981\n",
       "Description_5 Bedroom Commercial Property        0.5142      0.500      1.029      0.304      -0.466       1.494\n",
       "Description_5 Bedroom Duplex                    -0.0020      0.300     -0.007      0.995      -0.590       0.586\n",
       "Description_5 Bedroom Duplex\n",
       "                 3.949e-15   4.03e-15      0.981      0.327   -3.95e-15    1.18e-14\n",
       "Description_5 Bedroom Flat & Apartment           0.8013      0.360      2.224      0.026       0.095       1.508\n",
       "Description_5 Bedroom House                      0.4530      0.344      1.315      0.189      -0.222       1.128\n",
       "Description_5 Bedroom Office                     1.8888      0.756      2.497      0.013       0.406       3.372\n",
       "Description_5 Bedroom Terrace                   -0.3042      0.374     -0.812      0.417      -1.038       0.430\n",
       "Description_5 Bedroom Terrace\n",
       "                   1.4188      0.756      1.876      0.061      -0.064       2.902\n",
       "Description_5 Bedroom Townhouse                  0.4498      0.574      0.784      0.433      -0.675       1.575\n",
       "Description_6 Bedroom Duplex                   9.54e-16   4.23e-16      2.256      0.024    1.25e-16    1.78e-15\n",
       "Description_7 Bedroom House                  -4.649e-16   1.93e-16     -2.406      0.016   -8.44e-16    -8.6e-17\n",
       "Description_9 Bedroom Flat & Apartment           1.4257      0.754      1.892      0.059      -0.052       2.904\n",
       "Description_Commercial Property                  1.5676      0.331      4.735      0.000       0.918       2.217\n",
       "Description_Flat & Apartment                    -0.3344      0.309     -1.082      0.279      -0.940       0.272\n",
       "Description_Hotel                                2.1170      0.421      5.026      0.000       1.291       2.943\n",
       "Description_House                               -1.2365      0.758     -1.632      0.103      -2.722       0.249\n",
       "Description_House\n",
       "                              -1.5729      0.758     -2.076      0.038      -3.059      -0.087\n",
       "Description_Office                               0.9643      0.320      3.015      0.003       0.337       1.592\n",
       "Description_Office\n",
       "                              0.8544      0.763      1.120      0.263      -0.642       2.351\n",
       "Description_Room or Boys Quarter                -0.7774      0.467     -1.665      0.096      -1.693       0.138\n",
       "Description_Shop                                 0.4293      0.349      1.229      0.219      -0.256       1.114\n",
       "Description_Warehouse                            2.2834      0.351      6.498      0.000       1.594       2.973\n",
       "==============================================================================\n",
       "Omnibus:                       74.914   Durbin-Watson:                   2.125\n",
       "Prob(Omnibus):                  0.000   Jarque-Bera (JB):               86.743\n",
       "Skew:                           0.438   Prob(JB):                     1.46e-19\n",
       "Kurtosis:                       3.507   Cond. No.                     9.82e+17\n",
       "==============================================================================\n",
       "\n",
       "Warnings:\n",
       "[1] Standard Errors assume that the covariance matrix of the errors is correctly specified.\n",
       "[2] The smallest eigenvalue is 2.93e-32. This might indicate that there are\n",
       "strong multicollinearity problems or that the design matrix is singular.\n",
       "\"\"\""
      ]
     },
     "execution_count": 199,
     "metadata": {},
     "output_type": "execute_result"
    }
   ],
   "source": [
    "result2.summary()"
   ]
  },
  {
   "cell_type": "markdown",
   "metadata": {},
   "source": [
    "FROM THE RESULTS ABOVE, WE CAN OBSERVE THAT THERE HAS BEEN AN INCREASE IN THE ADJUSTED R-SQUARED INDICATING THAT A USELESS VARIABLE HAS BEEN REMOVED"
   ]
  },
  {
   "cell_type": "markdown",
   "metadata": {},
   "source": [
    "NOW LET'S TRY TO USE THE REGRESSOR VARIABLE FROM SKLEARN LINEAR REGRESSOR MODEL TO PREDICT WITH THE TRAINING SET"
   ]
  },
  {
   "cell_type": "markdown",
   "metadata": {},
   "source": [
    "WE CAN USE THIS OPPORTUNITY TO CHECK FOR NORMALITY ..I.E ERROR TERM MUST BE NORMALLY DISTRIBUTED"
   ]
  },
  {
   "cell_type": "code",
   "execution_count": 215,
   "metadata": {},
   "outputs": [],
   "source": [
    "y1_train_pred_linear = linear_regressor1.predict(x1_train)"
   ]
  },
  {
   "cell_type": "code",
   "execution_count": 217,
   "metadata": {},
   "outputs": [
    {
     "name": "stderr",
     "output_type": "stream",
     "text": [
      "C:\\ProgramData\\Anaconda3\\lib\\site-packages\\scipy\\stats\\stats.py:1713: FutureWarning: Using a non-tuple sequence for multidimensional indexing is deprecated; use `arr[tuple(seq)]` instead of `arr[seq]`. In the future this will be interpreted as an array index, `arr[np.array(seq)]`, which will result either in an error or a different result.\n",
      "  return np.add.reduce(sorted[indexer] * weights, axis=axis) / sumval\n"
     ]
    },
    {
     "data": {
      "text/plain": [
       "<matplotlib.axes._subplots.AxesSubplot at 0x1d18ff40c50>"
      ]
     },
     "execution_count": 217,
     "metadata": {},
     "output_type": "execute_result"
    },
    {
     "data": {
      "image/png": "[encoded data removed]",
      "text/plain": [
       "<Figure size 432x288 with 1 Axes>"
      ]
     },
     "metadata": {},
     "output_type": "display_data"
    }
   ],
   "source": [
    "sns.distplot(y1_train-y1_train_pred_linear,bins=50)#The residuals being the estimates of the errors, we will expect them to be normally distributed too"
   ]
  },
  {
   "cell_type": "markdown",
   "metadata": {},
   "source": [
    "AS CAN BE OBSERVED ABOVE, THE ERROR TERM IS NORMALLY DISTRIBUTED"
   ]
  },
  {
   "cell_type": "code",
   "execution_count": 224,
   "metadata": {},
   "outputs": [
    {
     "data": {
      "text/plain": [
       "<matplotlib.collections.PathCollection at 0x1d190173a58>"
      ]
     },
     "execution_count": 224,
     "metadata": {},
     "output_type": "execute_result"
    },
    {
     "data": {
      "image/png": "[encoded data removed]",
      "text/plain": [
       "<Figure size 432x288 with 1 Axes>"
      ]
     },
     "metadata": {},
     "output_type": "display_data"
    }
   ],
   "source": [
    "plt.scatter(y1_train,y1_train_pred_linear,alpha=0.5)\n"
   ]
  },
  {
   "cell_type": "markdown",
   "metadata": {},
   "source": [
    "THE SCATTER PLOT ABOVE BETWEEN THE ACTUAL VALUES OF Y AND PREDICTED VALUES SHOWS A DEGREE OF LINEARITY WHICH MEANS THE MODEL TRIED TO AN EXTENT..THERE IS A RELATIVELY HIGHER CONCENTRATION OF POINTS IN THE CENTER, WHICH MEANS THE MODEL IS QUITE GOOD AT PREDICTING HOUSE PRICES IN MID-RANGE"
   ]
  },
  {
   "cell_type": "markdown",
   "metadata": {},
   "source": [
    "LET'S TRY TO CALCULATE THE R-SQUARED-SCORE FOR THE TEST SET"
   ]
  },
  {
   "cell_type": "code",
   "execution_count": 222,
   "metadata": {},
   "outputs": [],
   "source": [
    "y1_test_pred_linear =  linear_regressor1.predict(x1_test)"
   ]
  },
  {
   "cell_type": "code",
   "execution_count": 226,
   "metadata": {},
   "outputs": [
    {
     "data": {
      "text/plain": [
       "0.21489859793111166"
      ]
     },
     "execution_count": 226,
     "metadata": {},
     "output_type": "execute_result"
    }
   ],
   "source": [
    "sklearn.metrics.r2_score(y1_test,y1_test_pred_linear)"
   ]
  },
  {
   "cell_type": "code",
   "execution_count": 225,
   "metadata": {},
   "outputs": [
    {
     "data": {
      "text/plain": [
       "<matplotlib.collections.PathCollection at 0x1d1901cc588>"
      ]
     },
     "execution_count": 225,
     "metadata": {},
     "output_type": "execute_result"
    },
    {
     "data": {
      "image/png": "[encoded data removed]",
      "text/plain": [
       "<Figure size 432x288 with 1 Axes>"
      ]
     },
     "metadata": {},
     "output_type": "display_data"
    }
   ],
   "source": [
    "plt.scatter(y1_test,y1_test_pred_linear,alpha=0.5)"
   ]
  },
  {
   "cell_type": "markdown",
   "metadata": {},
   "source": [
    "The same pattern was observed as in the training set..A higher concentration of points in the center..meaning the model is better at predicting mid-range-prices"
   ]
  },
  {
   "cell_type": "markdown",
   "metadata": {},
   "source": [
    "AND SO WE HAVE 21.5% ACCURACY ON THE TEST SET COMPARED TO THE 25% ON TRAINING SET..THE DEVIATION IS NOT LARGE..THEREFORE THE MODEL IS NOT OVERFITTING"
   ]
  },
  {
   "cell_type": "markdown",
   "metadata": {},
   "source": [
    "AT THIS POINT I THINK IT WOULD BE WORTH IT TO CHECK OTHER REGRESSION ALGORITHMS"
   ]
  },
  {
   "cell_type": "markdown",
   "metadata": {},
   "source": [
    "# SUPER VECTOR REGRESSION"
   ]
  },
  {
   "cell_type": "code",
   "execution_count": 213,
   "metadata": {},
   "outputs": [],
   "source": [
    "from sklearn.svm import SVR"
   ]
  },
  {
   "cell_type": "code",
   "execution_count": 446,
   "metadata": {},
   "outputs": [],
   "source": [
    "svr_regressor = SVR(kernel=\"rbf\")"
   ]
  },
  {
   "cell_type": "code",
   "execution_count": 447,
   "metadata": {},
   "outputs": [],
   "source": [
    "from sklearn.preprocessing import StandardScaler"
   ]
  },
  {
   "cell_type": "code",
   "execution_count": 448,
   "metadata": {},
   "outputs": [],
   "source": [
    "scaler = StandardScaler()"
   ]
  },
  {
   "cell_type": "code",
   "execution_count": 449,
   "metadata": {},
   "outputs": [
    {
     "name": "stderr",
     "output_type": "stream",
     "text": [
      "C:\\ProgramData\\Anaconda3\\lib\\site-packages\\sklearn\\preprocessing\\data.py:625: DataConversionWarning: Data with input dtype uint8, int64 were all converted to float64 by StandardScaler.\n",
      "  return self.partial_fit(X, y)\n",
      "C:\\ProgramData\\Anaconda3\\lib\\site-packages\\sklearn\\base.py:462: DataConversionWarning: Data with input dtype uint8, int64 were all converted to float64 by StandardScaler.\n",
      "  return self.fit(X, **fit_params).transform(X)\n"
     ]
    }
   ],
   "source": [
    "x1_train_scaled = scaler.fit_transform(x1_train)"
   ]
  },
  {
   "cell_type": "code",
   "execution_count": 450,
   "metadata": {},
   "outputs": [
    {
     "name": "stderr",
     "output_type": "stream",
     "text": [
      "C:\\ProgramData\\Anaconda3\\lib\\site-packages\\sklearn\\svm\\base.py:196: FutureWarning: The default value of gamma will change from 'auto' to 'scale' in version 0.22 to account better for unscaled features. Set gamma explicitly to 'auto' or 'scale' to avoid this warning.\n",
      "  \"avoid this warning.\", FutureWarning)\n"
     ]
    },
    {
     "data": {
      "text/plain": [
       "SVR(C=1.0, cache_size=200, coef0=0.0, degree=3, epsilon=0.1,\n",
       "  gamma='auto_deprecated', kernel='rbf', max_iter=-1, shrinking=True,\n",
       "  tol=0.001, verbose=False)"
      ]
     },
     "execution_count": 450,
     "metadata": {},
     "output_type": "execute_result"
    }
   ],
   "source": [
    "svr_regressor.fit(x1_train_scaled,y1_train)"
   ]
  },
  {
   "cell_type": "markdown",
   "metadata": {},
   "source": [
    "NOW LET'S TRY TO PREDICT THE TRAINING SET DATA WITH THE SVR REGRESSOR"
   ]
  },
  {
   "cell_type": "code",
   "execution_count": 451,
   "metadata": {},
   "outputs": [
    {
     "data": {
      "text/plain": [
       "0.2292491432791589"
      ]
     },
     "execution_count": 451,
     "metadata": {},
     "output_type": "execute_result"
    }
   ],
   "source": [
    "svr_regressor.score(x1_train_scaled,y1_train)"
   ]
  },
  {
   "cell_type": "markdown",
   "metadata": {},
   "source": [
    "NOW LET'S TRY TO PREDICT THE TEST SET DATA WITH THE SVR REGRESSOR"
   ]
  },
  {
   "cell_type": "code",
   "execution_count": 454,
   "metadata": {},
   "outputs": [
    {
     "name": "stderr",
     "output_type": "stream",
     "text": [
      "C:\\ProgramData\\Anaconda3\\lib\\site-packages\\ipykernel_launcher.py:1: DataConversionWarning: Data with input dtype uint8, int64 were all converted to float64 by StandardScaler.\n",
      "  \"\"\"Entry point for launching an IPython kernel.\n"
     ]
    }
   ],
   "source": [
    "x1_test_scaled = scaler.transform(x1_test)"
   ]
  },
  {
   "cell_type": "code",
   "execution_count": 455,
   "metadata": {},
   "outputs": [],
   "source": [
    "y1_test_pred_svr = svr_regressor.predict(x1_test_scaled)"
   ]
  },
  {
   "cell_type": "code",
   "execution_count": 456,
   "metadata": {},
   "outputs": [
    {
     "data": {
      "text/plain": [
       "0.16992101933591242"
      ]
     },
     "execution_count": 456,
     "metadata": {},
     "output_type": "execute_result"
    }
   ],
   "source": [
    "sklearn.metrics.r2_score(y1_test,y1_test_pred_svr)"
   ]
  },
  {
   "cell_type": "markdown",
   "metadata": {},
   "source": [
    "There is clearly overfitting as there is a very significant difference between the train and test set scores"
   ]
  },
  {
   "cell_type": "markdown",
   "metadata": {},
   "source": [
    "NOW,I'LL USE PARAMETER TUNING WITH GRID SEARCH TO KNOW THE BEST OPTION FOR THE PENALTY PARAMETER, C"
   ]
  },
  {
   "cell_type": "code",
   "execution_count": 342,
   "metadata": {},
   "outputs": [],
   "source": [
    "from sklearn.model_selection import GridSearchCV"
   ]
  },
  {
   "cell_type": "code",
   "execution_count": 463,
   "metadata": {},
   "outputs": [],
   "source": [
    "parameters = [{\"C\":[1,5,7,10,100,1000]}]"
   ]
  },
  {
   "cell_type": "code",
   "execution_count": 464,
   "metadata": {},
   "outputs": [],
   "source": [
    "grid_search = GridSearchCV(estimator =svr_regressor,param_grid =parameters,cv=10,n_jobs =-1)"
   ]
  },
  {
   "cell_type": "code",
   "execution_count": 465,
   "metadata": {},
   "outputs": [
    {
     "name": "stderr",
     "output_type": "stream",
     "text": [
      "C:\\ProgramData\\Anaconda3\\lib\\site-packages\\sklearn\\svm\\base.py:196: FutureWarning: The default value of gamma will change from 'auto' to 'scale' in version 0.22 to account better for unscaled features. Set gamma explicitly to 'auto' or 'scale' to avoid this warning.\n",
      "  \"avoid this warning.\", FutureWarning)\n"
     ]
    }
   ],
   "source": [
    "grid_search = grid_search.fit(x1_train_scaled,y1_train)"
   ]
  },
  {
   "cell_type": "code",
   "execution_count": 466,
   "metadata": {},
   "outputs": [
    {
     "data": {
      "text/plain": [
       "{'C': 1}"
      ]
     },
     "execution_count": 466,
     "metadata": {},
     "output_type": "execute_result"
    }
   ],
   "source": [
    "grid_search.best_params_"
   ]
  },
  {
   "cell_type": "code",
   "execution_count": 467,
   "metadata": {},
   "outputs": [
    {
     "data": {
      "text/plain": [
       "0.16636437594663456"
      ]
     },
     "execution_count": 467,
     "metadata": {},
     "output_type": "execute_result"
    }
   ],
   "source": [
    "grid_search.best_score_"
   ]
  },
  {
   "cell_type": "markdown",
   "metadata": {},
   "source": [
    "ACCORDING TO THE GRID SEARCH OPERATION ABOVE ,THE BEST C PARAMETER IS THE ONE ALREADY IN USE I.E 1..THIS MODEL IS NOT AS GOOD AS THE MULTIPLE LINEAR REGRESSION MODEL USED EARLIER."
   ]
  },
  {
   "cell_type": "markdown",
   "metadata": {},
   "source": [
    "# DECISION TREE REGRESSION"
   ]
  },
  {
   "cell_type": "code",
   "execution_count": 470,
   "metadata": {},
   "outputs": [],
   "source": [
    "from sklearn.tree import DecisionTreeRegressor"
   ]
  },
  {
   "cell_type": "code",
   "execution_count": 488,
   "metadata": {},
   "outputs": [],
   "source": [
    "dtree_regressor = DecisionTreeRegressor(random_state = 42)"
   ]
  },
  {
   "cell_type": "code",
   "execution_count": 489,
   "metadata": {},
   "outputs": [
    {
     "data": {
      "text/plain": [
       "DecisionTreeRegressor(criterion='mse', max_depth=None, max_features=None,\n",
       "           max_leaf_nodes=None, min_impurity_decrease=0.0,\n",
       "           min_impurity_split=None, min_samples_leaf=1,\n",
       "           min_samples_split=2, min_weight_fraction_leaf=0.0,\n",
       "           presort=False, random_state=42, splitter='best')"
      ]
     },
     "execution_count": 489,
     "metadata": {},
     "output_type": "execute_result"
    }
   ],
   "source": [
    "dtree_regressor.fit(x1_train,y1_train)"
   ]
  },
  {
   "cell_type": "code",
   "execution_count": 490,
   "metadata": {},
   "outputs": [
    {
     "data": {
      "text/plain": [
       "0.3079013325029083"
      ]
     },
     "execution_count": 490,
     "metadata": {},
     "output_type": "execute_result"
    }
   ],
   "source": [
    "dtree_regressor.score(x1_train,y1_train)"
   ]
  },
  {
   "cell_type": "code",
   "execution_count": 491,
   "metadata": {},
   "outputs": [],
   "source": [
    "y1_test_pred_dtree = dtree_regressor.predict(x1_test)"
   ]
  },
  {
   "cell_type": "code",
   "execution_count": 492,
   "metadata": {},
   "outputs": [
    {
     "data": {
      "text/plain": [
       "0.08871292804685704"
      ]
     },
     "execution_count": 492,
     "metadata": {},
     "output_type": "execute_result"
    }
   ],
   "source": [
    "sklearn.metrics.r2_score(y1_test,y1_test_pred_dtree)"
   ]
  },
  {
   "cell_type": "markdown",
   "metadata": {},
   "source": [
    "THERE IS CLEARLY OVERFITTING..WE WILL TRY GRID SEARCH"
   ]
  },
  {
   "cell_type": "code",
   "execution_count": 497,
   "metadata": {},
   "outputs": [],
   "source": [
    "parameters1 = [{\"max_depth\" : [1000,2000],\"min_samples_split\":[80,90,120,200,500,],\"max_leaf_nodes\":[1000,2000,3000,5000,8000]}]\n",
    "\n",
    "grid_search2 = GridSearchCV(estimator = dtree_regressor,param_grid = parameters1, n_jobs=-1,cv=10)"
   ]
  },
  {
   "cell_type": "code",
   "execution_count": 498,
   "metadata": {},
   "outputs": [],
   "source": [
    "grid_search2 = grid_search2.fit(x1_train,y1_train)"
   ]
  },
  {
   "cell_type": "code",
   "execution_count": 499,
   "metadata": {},
   "outputs": [
    {
     "data": {
      "text/plain": [
       "0.19652592627835697"
      ]
     },
     "execution_count": 499,
     "metadata": {},
     "output_type": "execute_result"
    }
   ],
   "source": [
    "grid_search2.best_score_"
   ]
  },
  {
   "cell_type": "code",
   "execution_count": 500,
   "metadata": {},
   "outputs": [
    {
     "data": {
      "text/plain": [
       "{'max_depth': 1000, 'max_leaf_nodes': 1000, 'min_samples_split': 120}"
      ]
     },
     "execution_count": 500,
     "metadata": {},
     "output_type": "execute_result"
    }
   ],
   "source": [
    "grid_search2.best_params_"
   ]
  },
  {
   "cell_type": "markdown",
   "metadata": {},
   "source": [
    "NOW LET'S REREUN WITH THE DERIVED PARAMETERS"
   ]
  },
  {
   "cell_type": "code",
   "execution_count": 503,
   "metadata": {},
   "outputs": [],
   "source": [
    "dtree_regressor2 = DecisionTreeRegressor(max_depth= 1000, max_leaf_nodes= 1000, min_samples_split= 120 ,random_state = 42)"
   ]
  },
  {
   "cell_type": "code",
   "execution_count": 504,
   "metadata": {},
   "outputs": [
    {
     "data": {
      "text/plain": [
       "DecisionTreeRegressor(criterion='mse', max_depth=1000, max_features=None,\n",
       "           max_leaf_nodes=1000, min_impurity_decrease=0.0,\n",
       "           min_impurity_split=None, min_samples_leaf=1,\n",
       "           min_samples_split=120, min_weight_fraction_leaf=0.0,\n",
       "           presort=False, random_state=42, splitter='best')"
      ]
     },
     "execution_count": 504,
     "metadata": {},
     "output_type": "execute_result"
    }
   ],
   "source": [
    "dtree_regressor2.fit(x1_train,y1_train)"
   ]
  },
  {
   "cell_type": "code",
   "execution_count": 505,
   "metadata": {},
   "outputs": [
    {
     "data": {
      "text/plain": [
       "0.2670017260980717"
      ]
     },
     "execution_count": 505,
     "metadata": {},
     "output_type": "execute_result"
    }
   ],
   "source": [
    "dtree_regressor2.score(x1_train,y1_train)"
   ]
  },
  {
   "cell_type": "code",
   "execution_count": 506,
   "metadata": {},
   "outputs": [],
   "source": [
    "y1_test_pred_dtree2 = dtree_regressor2.predict(x1_test)"
   ]
  },
  {
   "cell_type": "code",
   "execution_count": 507,
   "metadata": {},
   "outputs": [
    {
     "data": {
      "text/plain": [
       "0.17577971947416138"
      ]
     },
     "execution_count": 507,
     "metadata": {},
     "output_type": "execute_result"
    }
   ],
   "source": [
    "sklearn.metrics.r2_score(y1_test,y1_test_pred_dtree2)"
   ]
  },
  {
   "cell_type": "markdown",
   "metadata": {},
   "source": [
    "SO..WITH THE DECISION TREE MODEL, WE GOT 26.7% ACCURACY ON TRAINING SET AND 17% ON TEST SET..THIS IS CLEARLY NOT AS GOOD AS THE LINEAR REGRESSION RESULT"
   ]
  },
  {
   "cell_type": "markdown",
   "metadata": {},
   "source": [
    "# RANDOM FOREST REGRESSION"
   ]
  },
  {
   "cell_type": "code",
   "execution_count": 508,
   "metadata": {},
   "outputs": [],
   "source": [
    "from sklearn.ensemble import RandomForestRegressor"
   ]
  },
  {
   "cell_type": "code",
   "execution_count": 510,
   "metadata": {},
   "outputs": [],
   "source": [
    "forest_regressor = RandomForestRegressor(n_estimators=100,criterion='mse')"
   ]
  },
  {
   "cell_type": "code",
   "execution_count": 511,
   "metadata": {},
   "outputs": [
    {
     "data": {
      "text/plain": [
       "RandomForestRegressor(bootstrap=True, criterion='mse', max_depth=None,\n",
       "           max_features='auto', max_leaf_nodes=None,\n",
       "           min_impurity_decrease=0.0, min_impurity_split=None,\n",
       "           min_samples_leaf=1, min_samples_split=2,\n",
       "           min_weight_fraction_leaf=0.0, n_estimators=100, n_jobs=None,\n",
       "           oob_score=False, random_state=None, verbose=0, warm_start=False)"
      ]
     },
     "execution_count": 511,
     "metadata": {},
     "output_type": "execute_result"
    }
   ],
   "source": [
    "forest_regressor.fit(x1_train,y1_train)"
   ]
  },
  {
   "cell_type": "code",
   "execution_count": 513,
   "metadata": {},
   "outputs": [
    {
     "data": {
      "text/plain": [
       "0.30093645950863546"
      ]
     },
     "execution_count": 513,
     "metadata": {},
     "output_type": "execute_result"
    }
   ],
   "source": [
    "forest_regressor.score(x1_train,y1_train)"
   ]
  },
  {
   "cell_type": "code",
   "execution_count": 514,
   "metadata": {},
   "outputs": [],
   "source": [
    "y1_test_pred_forest = forest_regressor.predict(x1_test)"
   ]
  },
  {
   "cell_type": "code",
   "execution_count": 515,
   "metadata": {},
   "outputs": [
    {
     "data": {
      "text/plain": [
       "0.1601673239161674"
      ]
     },
     "execution_count": 515,
     "metadata": {},
     "output_type": "execute_result"
    }
   ],
   "source": [
    "sklearn.metrics.r2_score(y1_test,y1_test_pred_forest)"
   ]
  },
  {
   "cell_type": "markdown",
   "metadata": {},
   "source": [
    "AGAIN...THERE IS CLEARLY OVERFITTING..WE WILL TRY PARAMETER TUNING WITH GRID SEARCH"
   ]
  },
  {
   "cell_type": "code",
   "execution_count": 523,
   "metadata": {},
   "outputs": [],
   "source": [
    "parameters_forest = [{\"max_depth\" : [1000,2000],\"min_samples_split\":[80,90,120,200,500,],\"max_leaf_nodes\":[1000,2000,3000,5000,8000]}]\n",
    "\n",
    "grid_search_forest = GridSearchCV(estimator = forest_regressor,param_grid = parameters_forest, n_jobs=-1,cv=10)"
   ]
  },
  {
   "cell_type": "code",
   "execution_count": 524,
   "metadata": {},
   "outputs": [],
   "source": [
    "grid_search_forest = grid_search_forest.fit(x1_train,y1_train)"
   ]
  },
  {
   "cell_type": "code",
   "execution_count": 525,
   "metadata": {},
   "outputs": [
    {
     "data": {
      "text/plain": [
       "0.2063398979967391"
      ]
     },
     "execution_count": 525,
     "metadata": {},
     "output_type": "execute_result"
    }
   ],
   "source": [
    "grid_search_forest.best_score_"
   ]
  },
  {
   "cell_type": "code",
   "execution_count": 526,
   "metadata": {},
   "outputs": [
    {
     "data": {
      "text/plain": [
       "{'max_depth': 1000, 'max_leaf_nodes': 5000, 'min_samples_split': 80}"
      ]
     },
     "execution_count": 526,
     "metadata": {},
     "output_type": "execute_result"
    }
   ],
   "source": [
    "grid_search_forest.best_params_"
   ]
  },
  {
   "cell_type": "markdown",
   "metadata": {},
   "source": [
    "NOW..LET'S RERUN THE PROCESS WITH THE NEW PARAMETERS"
   ]
  },
  {
   "cell_type": "code",
   "execution_count": 527,
   "metadata": {},
   "outputs": [],
   "source": [
    "forest_regressor2 = RandomForestRegressor(max_depth=1000, max_leaf_nodes=5000, min_samples_split= 80,n_estimators=100,criterion='mse')"
   ]
  },
  {
   "cell_type": "code",
   "execution_count": 528,
   "metadata": {},
   "outputs": [
    {
     "data": {
      "text/plain": [
       "RandomForestRegressor(bootstrap=True, criterion='mse', max_depth=1000,\n",
       "           max_features='auto', max_leaf_nodes=5000,\n",
       "           min_impurity_decrease=0.0, min_impurity_split=None,\n",
       "           min_samples_leaf=1, min_samples_split=80,\n",
       "           min_weight_fraction_leaf=0.0, n_estimators=100, n_jobs=None,\n",
       "           oob_score=False, random_state=None, verbose=0, warm_start=False)"
      ]
     },
     "execution_count": 528,
     "metadata": {},
     "output_type": "execute_result"
    }
   ],
   "source": [
    "forest_regressor2.fit(x1_train,y1_train)"
   ]
  },
  {
   "cell_type": "code",
   "execution_count": 532,
   "metadata": {},
   "outputs": [
    {
     "data": {
      "text/plain": [
       "0.27316915040546774"
      ]
     },
     "execution_count": 532,
     "metadata": {},
     "output_type": "execute_result"
    }
   ],
   "source": [
    "forest_regressor2.score(x1_train,y1_train)"
   ]
  },
  {
   "cell_type": "code",
   "execution_count": 533,
   "metadata": {},
   "outputs": [],
   "source": [
    "y1_test_pred_forest2 = forest_regressor2.predict(x1_test)"
   ]
  },
  {
   "cell_type": "code",
   "execution_count": 534,
   "metadata": {},
   "outputs": [
    {
     "data": {
      "text/plain": [
       "0.20491105431597678"
      ]
     },
     "execution_count": 534,
     "metadata": {},
     "output_type": "execute_result"
    }
   ],
   "source": [
    "sklearn.metrics.r2_score(y1_test,y1_test_pred_forest2)"
   ]
  },
  {
   "cell_type": "markdown",
   "metadata": {},
   "source": [
    "WITH RANDOM FOREST, WE HAVE AN ACCURACY OF 27% ON TRAINING SET AND 20.49% ON TEST SET..THIS IS THE CLOSEST SO FAR TO THE LINEAR REGRESSION ALGORITHM WITH AN ACCURACY OF 25% ON TRAINING SET AND 21.49% 0N TEST SET"
   ]
  },
  {
   "cell_type": "markdown",
   "metadata": {},
   "source": [
    "BECAUSE OF THE PERFORMANCE OF THE LINEAR REGRESSION ALGORITHM ON THE TEST SET..I WILL BE SELECTING IT AS THE BEST.."
   ]
  },
  {
   "cell_type": "code",
   "execution_count": null,
   "metadata": {},
   "outputs": [],
   "source": []
  },
  {
   "cell_type": "markdown",
   "metadata": {},
   "source": [
    "NOW LET'S RUN A CLUSTER ANALYSIS TO SEE IF THERE IS A POSSIBILITY THAT WE MISSED OUT AN IMPORTANT VARIABLE AS THE PREDICTION ACCURACY SEEMS QUITE LOW FOR A HOUSE PRICE MODEL"
   ]
  },
  {
   "cell_type": "code",
   "execution_count": 538,
   "metadata": {},
   "outputs": [],
   "source": [
    "from sklearn.cluster import KMeans"
   ]
  },
  {
   "cell_type": "code",
   "execution_count": 560,
   "metadata": {},
   "outputs": [],
   "source": [
    "wcss = []\n",
    "wcss2=[]\n",
    "x_clust1 = newer_df4.iloc[:,[2,6]]#Baths and Price\n",
    "x_clust2 = newer_df4.iloc[:,[4,6]]#Garage and Price"
   ]
  },
  {
   "cell_type": "code",
   "execution_count": 561,
   "metadata": {},
   "outputs": [
    {
     "data": {
      "text/plain": [
       "[<matplotlib.lines.Line2D at 0x1d193bbdc18>]"
      ]
     },
     "execution_count": 561,
     "metadata": {},
     "output_type": "execute_result"
    },
    {
     "data": {
      "image/png": "[encoded data removed]",
      "text/plain": [
       "<Figure size 432x288 with 1 Axes>"
      ]
     },
     "metadata": {},
     "output_type": "display_data"
    }
   ],
   "source": [
    "for i in range(1,7):\n",
    "    kmeans = KMeans(i,init='k-means++')\n",
    "    kmeans.fit(x_clust1)\n",
    "    wcss_iter = kmeans.inertia_\n",
    "    wcss.append(wcss_iter)\n",
    "number_clusters=[i for i in range(1,7)]\n",
    "plt.plot(number_clusters,wcss)"
   ]
  },
  {
   "cell_type": "code",
   "execution_count": 567,
   "metadata": {},
   "outputs": [],
   "source": [
    "kmeans1 = KMeans(4,init=\"k-means++\")"
   ]
  },
  {
   "cell_type": "code",
   "execution_count": 568,
   "metadata": {},
   "outputs": [],
   "source": [
    "id_clusters = kmeans1.fit_predict(x_clust1)"
   ]
  },
  {
   "cell_type": "code",
   "execution_count": 569,
   "metadata": {},
   "outputs": [
    {
     "name": "stderr",
     "output_type": "stream",
     "text": [
      "C:\\ProgramData\\Anaconda3\\lib\\site-packages\\ipykernel_launcher.py:1: SettingWithCopyWarning: \n",
      "A value is trying to be set on a copy of a slice from a DataFrame.\n",
      "Try using .loc[row_indexer,col_indexer] = value instead\n",
      "\n",
      "See the caveats in the documentation: http://pandas.pydata.org/pandas-docs/stable/indexing.html#indexing-view-versus-copy\n",
      "  \"\"\"Entry point for launching an IPython kernel.\n"
     ]
    }
   ],
   "source": [
    "x_clust1[\"clusters\"] = id_clusters"
   ]
  },
  {
   "cell_type": "code",
   "execution_count": 570,
   "metadata": {},
   "outputs": [
    {
     "data": {
      "text/plain": [
       "Text(0, 0.5, 'Price')"
      ]
     },
     "execution_count": 570,
     "metadata": {},
     "output_type": "execute_result"
    },
    {
     "data": {
      "image/png": "[encoded data removed]",
      "text/plain": [
       "<Figure size 432x288 with 1 Axes>"
      ]
     },
     "metadata": {},
     "output_type": "display_data"
    }
   ],
   "source": [
    "plt.scatter(x_clust1.iloc[:,0],x_clust1.iloc[:,1],c=x_clust1[\"clusters\"],cmap =\"rainbow\")\n",
    "plt.xlabel(\"Baths\")\n",
    "plt.ylabel(\"Price\")"
   ]
  },
  {
   "cell_type": "markdown",
   "metadata": {},
   "source": [
    "From the cluster plot above,it can be observed that as the baths number increase..even to 4, there is a cluster with significant number of data points at a relatively lower level which means Baths alone is not a strong predictor of Price ..Another factor such as area might be quite important and might influence the price. Even some baths with low numbers such as 0, had a very high price"
   ]
  },
  {
   "cell_type": "code",
   "execution_count": null,
   "metadata": {},
   "outputs": [],
   "source": []
  },
  {
   "cell_type": "code",
   "execution_count": 571,
   "metadata": {},
   "outputs": [
    {
     "data": {
      "text/plain": [
       "[<matplotlib.lines.Line2D at 0x1d193c5eac8>]"
      ]
     },
     "execution_count": 571,
     "metadata": {},
     "output_type": "execute_result"
    },
    {
     "data": {
      "image/png": "[encoded data removed]",
      "text/plain": [
       "<Figure size 432x288 with 1 Axes>"
      ]
     },
     "metadata": {},
     "output_type": "display_data"
    }
   ],
   "source": [
    "for i in range(1,7):\n",
    "    kmeans = KMeans(i,init='k-means++')\n",
    "    kmeans.fit(x_clust1)\n",
    "    wcss_iter = kmeans.inertia_\n",
    "    wcss2.append(wcss_iter)\n",
    "number_clusters=[i for i in range(1,7)]\n",
    "plt.plot(number_clusters,wcss2)"
   ]
  },
  {
   "cell_type": "code",
   "execution_count": 572,
   "metadata": {},
   "outputs": [],
   "source": [
    "kmeans2 = KMeans(4,init=\"k-means++\")"
   ]
  },
  {
   "cell_type": "code",
   "execution_count": 573,
   "metadata": {},
   "outputs": [],
   "source": [
    "id_clusters2 = kmeans2.fit_predict(x_clust2)"
   ]
  },
  {
   "cell_type": "code",
   "execution_count": 574,
   "metadata": {},
   "outputs": [
    {
     "name": "stderr",
     "output_type": "stream",
     "text": [
      "C:\\ProgramData\\Anaconda3\\lib\\site-packages\\ipykernel_launcher.py:1: SettingWithCopyWarning: \n",
      "A value is trying to be set on a copy of a slice from a DataFrame.\n",
      "Try using .loc[row_indexer,col_indexer] = value instead\n",
      "\n",
      "See the caveats in the documentation: http://pandas.pydata.org/pandas-docs/stable/indexing.html#indexing-view-versus-copy\n",
      "  \"\"\"Entry point for launching an IPython kernel.\n"
     ]
    }
   ],
   "source": [
    "x_clust2[\"clusters\"] = id_clusters2"
   ]
  },
  {
   "cell_type": "code",
   "execution_count": 576,
   "metadata": {},
   "outputs": [
    {
     "data": {
      "text/plain": [
       "Text(0, 0.5, 'Price')"
      ]
     },
     "execution_count": 576,
     "metadata": {},
     "output_type": "execute_result"
    },
    {
     "data": {
      "image/png": "[encoded data removed]",
      "text/plain": [
       "<Figure size 432x288 with 1 Axes>"
      ]
     },
     "metadata": {},
     "output_type": "display_data"
    }
   ],
   "source": [
    "plt.scatter(x_clust2.iloc[:,0],x_clust2.iloc[:,1],c=x_clust2[\"clusters\"],cmap =\"rainbow\")\n",
    "plt.xlabel(\"Garage\")\n",
    "plt.ylabel(\"Price\")"
   ]
  },
  {
   "cell_type": "markdown",
   "metadata": {},
   "source": [
    "HIGHER NUMBERS OF GARAGES ARE ASSOCIATED WITH RELATIVELY HIGHER PRICES...THIS CAN BE UNDERSTOOD AS THE KIND OF HOUSES SOME RICH PEOPLE BUY E.G THE SENATORS..HOUSES THAT HAVE MANY GARAGES FOR THEIR FLEET OF CARS..BUT LOWER NUMBERS INCLUDING ZERO STILL HAVE HIGH PRICES STIPULATING THAT THERE MIGHT BE ANOTHER VARIABLE E.G AREA OF THE LAND.."
   ]
  },
  {
   "cell_type": "code",
   "execution_count": null,
   "metadata": {},
   "outputs": [],
   "source": []
  },
  {
   "cell_type": "markdown",
   "metadata": {},
   "source": [
    "THEREFORE THE BEST MODEL SO FAR IS THE LINEAR REGRESSION MODEL WITH AN R-SQUARED OF 25% ON TRAINING DATA AND 21.49% ON TEST DATA"
   ]
  },
  {
   "cell_type": "code",
   "execution_count": null,
   "metadata": {},
   "outputs": [],
   "source": []
  }
 ],
 "metadata": {
  "kernelspec": {
   "display_name": "Python 3",
   "language": "python",
   "name": "python3"
  },
  "language_info": {
   "codemirror_mode": {
    "name": "ipython",
    "version": 3
   },
   "file_extension": ".py",
   "mimetype": "text/x-python",
   "name": "python",
   "nbconvert_exporter": "python",
   "pygments_lexer": "ipython3",
   "version": "3.7.1"
  }
 },
 "nbformat": 4,
 "nbformat_minor": 2
}
